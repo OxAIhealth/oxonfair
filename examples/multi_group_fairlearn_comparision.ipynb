{
 "cells": [
  {
   "cell_type": "markdown",
   "metadata": {},
   "source": [
    "A runtime comparison with FairLearn reductions on multi-group adult data.\n",
    "\n",
    "There is relatively little to see here, as both FairLearn and OxonFair naturally support multiple groups. \n",
    "\n",
    "We load the dataset and iteratively merge small groups into the group `Other'. Then we record time-taken, accuracy, and demographic disparity."
   ]
  },
  {
   "cell_type": "code",
   "execution_count": 1,
   "metadata": {
    "execution": {
     "iopub.execute_input": "2024-06-17T19:18:59.780110Z",
     "iopub.status.busy": "2024-06-17T19:18:59.779876Z",
     "iopub.status.idle": "2024-06-17T19:19:12.732591Z",
     "shell.execute_reply": "2024-06-17T19:19:12.731927Z"
    }
   },
   "outputs": [
    {
     "name": "stdout",
     "output_type": "stream",
     "text": [
      "Training time of xgboost without fairness\n",
      "0.6205382919999991\n"
     ]
    }
   ],
   "source": [
    "from oxonfair import FairPredictor, dataset_loader\n",
    "from oxonfair import group_metrics as gm\n",
    "from oxonfair.utils.performance import evaluate_fairness\n",
    "import fairlearn.reductions\n",
    "\n",
    "import xgboost\n",
    "import pandas as pd\n",
    "import numpy as np\n",
    "import fairlearn\n",
    "import time\n",
    "import pandas as pd\n",
    "train_data, val_data, test_data = dataset_loader.adult('race',train_proportion=0.7,test_proportion=0.3,seperate_groups=True,seed=0)\n",
    "\n",
    "start=time.perf_counter()\n",
    "predictor = xgboost.XGBClassifier().fit(X=train_data['data'], y=train_data['target'])\n",
    "stop=time.perf_counter()\n",
    "print('Training time of xgboost without fairness')\n",
    "print(stop-start)\n",
    "\n"
   ]
  },
  {
   "cell_type": "code",
   "execution_count": 2,
   "metadata": {
    "execution": {
     "iopub.execute_input": "2024-06-17T19:19:12.735037Z",
     "iopub.status.busy": "2024-06-17T19:19:12.734923Z",
     "iopub.status.idle": "2024-06-17T19:19:13.249576Z",
     "shell.execute_reply": "2024-06-17T19:19:13.248706Z"
    }
   },
   "outputs": [
    {
     "data": {
      "text/plain": [
       "Text(0.5, 1.0, 'Prevalence of ethinicities in the adult dataset')"
      ]
     },
     "execution_count": 2,
     "metadata": {},
     "output_type": "execute_result"
    },
    {
     "data": {
      "image/png": "[encoded data removed]",
      "text/plain": [
       "<Figure size 640x480 with 1 Axes>"
      ]
     },
     "metadata": {},
     "output_type": "display_data"
    }
   ],
   "source": [
    "from matplotlib import pyplot as plt\n",
    "plt.hist(test_data['groups'])\n",
    "plt.title('Prevalence of ethinicities in the adult dataset')"
   ]
  },
  {
   "cell_type": "code",
   "execution_count": 3,
   "metadata": {
    "execution": {
     "iopub.execute_input": "2024-06-17T19:19:13.253506Z",
     "iopub.status.busy": "2024-06-17T19:19:13.252878Z",
     "iopub.status.idle": "2024-06-17T19:19:13.256530Z",
     "shell.execute_reply": "2024-06-17T19:19:13.255782Z"
    }
   },
   "outputs": [],
   "source": [
    "#Create arrays to hold scores\n",
    "anon=np.zeros((3,4))\n",
    "fairl=np.zeros((3,4))"
   ]
  },
  {
   "cell_type": "code",
   "execution_count": 4,
   "metadata": {
    "execution": {
     "iopub.execute_input": "2024-06-17T19:19:13.259854Z",
     "iopub.status.busy": "2024-06-17T19:19:13.259366Z",
     "iopub.status.idle": "2024-06-17T19:21:25.415464Z",
     "shell.execute_reply": "2024-06-17T19:21:25.414759Z"
    }
   },
   "outputs": [],
   "source": [
    "for i, name in enumerate ((' Amer-Indian-Eskimo', ' Asian-Pac-Islander', ' Black', ' Other')):\n",
    "    # This looks like a bug, why are we merging ' Other' with itself.\n",
    "    # But we need a final null op to evaluate fairness when the groups are  White vs all others.\n",
    "    start=time.perf_counter()\n",
    "    fpred = FairPredictor(predictor,train_data)\n",
    "    fpred.fit(gm.accuracy,gm.demographic_parity,0.02)\n",
    "    stop=time.perf_counter()\n",
    "    score=fpred.evaluate_fairness(test_data,metrics={'a':gm.accuracy,'b':gm.demographic_parity},verbose=False)\n",
    "    anon[0,i]=score['updated']['a']#['updated']\n",
    "    anon[1,i]=score['updated']['b']#['updated']\n",
    "    anon[2,i]=stop-start\n",
    "    start=time.perf_counter()\n",
    "    fair = fairlearn.reductions.ExponentiatedGradient(xgboost.XGBClassifier(),fairlearn.reductions.DemographicParity())\n",
    "    fair.fit(X=train_data['data'],\n",
    "         y=train_data['target'],\n",
    "         sensitive_features=train_data['groups'])\n",
    "    stop=time.perf_counter()\n",
    "    score=evaluate_fairness(test_data['target'], fair.predict(test_data['data']), test_data['groups'], metrics={'a':gm.accuracy,'b':gm.demographic_parity},verbose=False)\n",
    "    fairl[0,i]=score['a']#['updated']\n",
    "    fairl[1,i]=score['b']#['updated']\n",
    "    fairl[2,i]=stop-start\n",
    "    train_data['groups'][train_data['groups']==name]=' Other'\n",
    "    test_data['groups'][test_data['groups']==name]=' Other'"
   ]
  },
  {
   "cell_type": "code",
   "execution_count": 5,
   "metadata": {
    "execution": {
     "iopub.execute_input": "2024-06-17T19:21:25.426894Z",
     "iopub.status.busy": "2024-06-17T19:21:25.426731Z",
     "iopub.status.idle": "2024-06-17T19:21:25.431204Z",
     "shell.execute_reply": "2024-06-17T19:21:25.430899Z"
    }
   },
   "outputs": [],
   "source": [
    "anon_df=pd.DataFrame(anon.T,columns=['Accuracy','Demographic Parity','Time'])\n",
    "fairl_df=pd.DataFrame(fairl.T,columns=['Accuracy','Demographic Parity','Time'])\n",
    "anon_df['Name']='OxonFair'\n",
    "fairl_df['Name']='FairLearn'\n",
    "anon_df=anon_df[['Name','Accuracy','Demographic Parity','Time']]\n",
    "fairl_df=fairl_df[['Name','Accuracy','Demographic Parity','Time']]"
   ]
  },
  {
   "cell_type": "code",
   "execution_count": 6,
   "metadata": {
    "execution": {
     "iopub.execute_input": "2024-06-17T19:21:25.432852Z",
     "iopub.status.busy": "2024-06-17T19:21:25.432741Z",
     "iopub.status.idle": "2024-06-17T19:21:25.445436Z",
     "shell.execute_reply": "2024-06-17T19:21:25.445158Z"
    }
   },
   "outputs": [],
   "source": [
    "results = pd.concat((anon_df,fairl_df), axis=0).sort_index()"
   ]
  },
  {
   "cell_type": "code",
   "execution_count": 7,
   "metadata": {},
   "outputs": [
    {
     "data": {
      "text/html": [
       "<div>\n",
       "<style scoped>\n",
       "    .dataframe tbody tr th:only-of-type {\n",
       "        vertical-align: middle;\n",
       "    }\n",
       "\n",
       "    .dataframe tbody tr th {\n",
       "        vertical-align: top;\n",
       "    }\n",
       "\n",
       "    .dataframe thead th {\n",
       "        text-align: right;\n",
       "    }\n",
       "</style>\n",
       "<table border=\"1\" class=\"dataframe\">\n",
       "  <thead>\n",
       "    <tr style=\"text-align: right;\">\n",
       "      <th></th>\n",
       "      <th>Name</th>\n",
       "      <th>Accuracy</th>\n",
       "      <th>Demographic Parity</th>\n",
       "      <th>Time</th>\n",
       "    </tr>\n",
       "  </thead>\n",
       "  <tbody>\n",
       "    <tr>\n",
       "      <th>0</th>\n",
       "      <td>OxonFair</td>\n",
       "      <td>0.868619</td>\n",
       "      <td>0.019085</td>\n",
       "      <td>41.136526</td>\n",
       "    </tr>\n",
       "    <tr>\n",
       "      <th>0</th>\n",
       "      <td>FairLearn</td>\n",
       "      <td>0.865001</td>\n",
       "      <td>0.037732</td>\n",
       "      <td>46.391113</td>\n",
       "    </tr>\n",
       "    <tr>\n",
       "      <th>1</th>\n",
       "      <td>OxonFair</td>\n",
       "      <td>0.867663</td>\n",
       "      <td>0.012305</td>\n",
       "      <td>0.804408</td>\n",
       "    </tr>\n",
       "    <tr>\n",
       "      <th>1</th>\n",
       "      <td>FairLearn</td>\n",
       "      <td>0.866639</td>\n",
       "      <td>0.016227</td>\n",
       "      <td>27.712763</td>\n",
       "    </tr>\n",
       "    <tr>\n",
       "      <th>2</th>\n",
       "      <td>OxonFair</td>\n",
       "      <td>0.867936</td>\n",
       "      <td>0.021317</td>\n",
       "      <td>0.071277</td>\n",
       "    </tr>\n",
       "    <tr>\n",
       "      <th>2</th>\n",
       "      <td>FairLearn</td>\n",
       "      <td>0.865070</td>\n",
       "      <td>0.007104</td>\n",
       "      <td>25.013719</td>\n",
       "    </tr>\n",
       "    <tr>\n",
       "      <th>3</th>\n",
       "      <td>OxonFair</td>\n",
       "      <td>0.868823</td>\n",
       "      <td>0.003093</td>\n",
       "      <td>0.049922</td>\n",
       "    </tr>\n",
       "    <tr>\n",
       "      <th>3</th>\n",
       "      <td>FairLearn</td>\n",
       "      <td>0.869165</td>\n",
       "      <td>0.002346</td>\n",
       "      <td>20.080540</td>\n",
       "    </tr>\n",
       "  </tbody>\n",
       "</table>\n",
       "</div>"
      ],
      "text/plain": [
       "        Name  Accuracy  Demographic Parity       Time\n",
       "0   OxonFair  0.868619            0.019085  41.136526\n",
       "0  FairLearn  0.865001            0.037732  46.391113\n",
       "1   OxonFair  0.867663            0.012305   0.804408\n",
       "1  FairLearn  0.866639            0.016227  27.712763\n",
       "2   OxonFair  0.867936            0.021317   0.071277\n",
       "2  FairLearn  0.865070            0.007104  25.013719\n",
       "3   OxonFair  0.868823            0.003093   0.049922\n",
       "3  FairLearn  0.869165            0.002346  20.080540"
      ]
     },
     "execution_count": 7,
     "metadata": {},
     "output_type": "execute_result"
    }
   ],
   "source": [
    "results"
   ]
  }
 ],
 "metadata": {
  "kernelspec": {
   "display_name": "py3.8",
   "language": "python",
   "name": "python3"
  },
  "language_info": {
   "codemirror_mode": {
    "name": "ipython",
    "version": 3
   },
   "file_extension": ".py",
   "mimetype": "text/x-python",
   "name": "python",
   "nbconvert_exporter": "python",
   "pygments_lexer": "ipython3",
   "version": "3.8.18"
  }
 },
 "nbformat": 4,
 "nbformat_minor": 2
}
