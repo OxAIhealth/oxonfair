{
 "cells": [
  {
   "cell_type": "markdown",
   "metadata": {},
   "source": [
    "# Fairrets comparison\n",
    "\n",
    "This is demo code comparing Fairrets https://github.com/aida-ugent/fairret with OxonFair using equal opportunity, and on tabular data as done in their paper.\n",
    "\n",
    "Where possible we have followed good practices.\n",
    "\n",
    "Fairrets doesn't use a validation set, so we merged train and val for them.\n",
    "\n",
    "For tabular data, wide shallow networks tend to work best, so we've used these, and we use a batch size of 1000 for fairrets to try to make it more stable.\n",
    "\n",
    "However, performance and fairness remains noticeably worse than OxonFair on a network of the same architecture.\n",
    "\n",
    "Increasing the regularization weight to 5 or 10 increases fairness, but the classifier is strongly degraded. Their simple pipeline demo uses 1, but this doesn't seem to be helping with fairness.\n",
    "\n",
    "If you know how to make it work better, please submit a patch."
   ]
  },
  {
   "cell_type": "code",
   "execution_count": 1,
   "metadata": {},
   "outputs": [],
   "source": [
    "# Load libraries\n",
    "\n",
    "import oxonfair\n",
    "from oxonfair import group_metrics as gm\n",
    "\n",
    "import numpy as np\n",
    "import torch\n",
    "import torch.nn.functional as F\n",
    "from torch import nn, optim\n",
    "import xgboost\n"
   ]
  },
  {
   "cell_type": "code",
   "execution_count": 2,
   "metadata": {},
   "outputs": [],
   "source": [
    "#Load adult dataset, using sex as the default groups and discard sex from the raw data\n",
    "train, val, test = oxonfair.dataset_loader.adult(discard_groups=True, seed=0,train_proportion=0.4,test_proportion=0.3)\n",
    "#Note that Eopp is difficult because we have few positive e.g. for women and so we use more data in val, test for stability of outcome."
   ]
  },
  {
   "cell_type": "code",
   "execution_count": 3,
   "metadata": {},
   "outputs": [],
   "source": [
    "#Normalise data\n",
    "std = train['data'].std()\n",
    "train['data'] = train['data'] / std\n",
    "val['data'] = val['data'] / std\n",
    "test['data'] = test['data'] / std\n",
    "# Merge train and val as fairret can't use val\n",
    "fairret_data = torch.tensor(np.vstack((train['data'],val['data']))).float()\n",
    "fairret_target = torch.tensor(np.hstack((train['target'],val['target']))).float()\n",
    "fairret_groups = torch.tensor(np.hstack((train['groups'],val['groups']))==' Male').float()"
   ]
  },
  {
   "cell_type": "code",
   "execution_count": 4,
   "metadata": {},
   "outputs": [],
   "source": [
    "#define a basic nn with 2 hidden-layers. 1 of width 100, and the second width 50.\n",
    "network = nn.Sequential(nn.Linear(train['data'].shape[1],100),\n",
    "                        nn.SELU(),\n",
    "                        nn.Linear(100,50),\n",
    "                        nn.SELU(),\n",
    "                        nn.Linear(50,2))\n",
    "#fairret network\n",
    "network_1head = nn.Sequential(nn.Linear(train['data'].shape[1],100),\n",
    "                              nn.SELU(),\n",
    "                              nn.Linear(100,50),\n",
    "                              nn.SELU(),\n",
    "                              nn.Linear(50,1))"
   ]
  },
  {
   "cell_type": "code",
   "execution_count": 5,
   "metadata": {},
   "outputs": [],
   "source": [
    "# Define a custom loss that trains the two-heads as required.\n",
    "def loss(x, y, g):\n",
    "    output = network(x)\n",
    "    loss0 = F.binary_cross_entropy_with_logits(output[:,0], y)\n",
    "    loss1 = F.mse_loss(output[:,1], g)\n",
    "    return loss0+loss1\n",
    "\n",
    "from fairret.statistic import TruePositiveRate\n",
    "from fairret.loss import NormLoss\n",
    "\n",
    "statistic = TruePositiveRate()\n",
    "norm_fairret = NormLoss(statistic)\n",
    "\n",
    "#fairret loss\n",
    "def loss_1head(x,y,g,scalar=1):\n",
    "    output = network_1head(x)\n",
    "    y=y.reshape(-1,1)\n",
    "    g=g.reshape(-1,1)\n",
    "    loss0 = F.binary_cross_entropy_with_logits(output, y)\n",
    "    loss1 = norm_fairret(output,g,y)\n",
    "    return loss0+scalar*loss1"
   ]
  },
  {
   "cell_type": "code",
   "execution_count": 6,
   "metadata": {},
   "outputs": [],
   "source": [
    "# Copy variables to tensors\n",
    "target = torch.tensor(train['target']).float()\n",
    "data = torch.tensor(np.asarray(train['data'])).float()\n",
    "groups = torch.tensor(train['groups']==' Male').float()\n",
    "\n",
    "optimizer = optim.Adam(network.parameters(), lr=1e-4)\n",
    "optimizer_1head = optim.Adam(network_1head.parameters(), lr=1e-4)\n",
    "from numpy import random"
   ]
  },
  {
   "cell_type": "code",
   "execution_count": 7,
   "metadata": {},
   "outputs": [
    {
     "name": "stdout",
     "output_type": "stream",
     "text": [
      "epoch is 0\n",
      "epoch is 10\n",
      "epoch is 20\n",
      "epoch is 30\n",
      "epoch is 40\n",
      "epoch is 50\n",
      "epoch is 60\n",
      "epoch is 70\n",
      "epoch is 80\n",
      "epoch is 90\n"
     ]
    }
   ],
   "source": [
    "# Train the network\n",
    "batch_size = 50\n",
    "\n",
    "for epoch in range(100):\n",
    "    #shuffle data\n",
    "    perm = random.permutation(target.shape[0])\n",
    "    target = target[perm]\n",
    "    data = data[perm]\n",
    "    groups = groups[perm]\n",
    "    if epoch%10==0:\n",
    "        print ('epoch is %d'%epoch)\n",
    "    for step in range(target.shape[0]//batch_size): # This discards the final incomplete batch\n",
    "        optimizer.zero_grad()\n",
    "        l = loss(data[step*batch_size:(1+step)*batch_size],\n",
    "                 target[step*batch_size:(1+step)*batch_size],\n",
    "                 groups[step*batch_size:(1+step)*batch_size])\n",
    "        l.backward()\n",
    "        optimizer.step()"
   ]
  },
  {
   "cell_type": "code",
   "execution_count": 8,
   "metadata": {},
   "outputs": [
    {
     "name": "stdout",
     "output_type": "stream",
     "text": [
      "epoch is 0\n",
      "epoch is 10\n",
      "epoch is 20\n",
      "epoch is 30\n",
      "epoch is 40\n",
      "epoch is 50\n",
      "epoch is 60\n",
      "epoch is 70\n",
      "epoch is 80\n",
      "epoch is 90\n"
     ]
    }
   ],
   "source": [
    "# Train the network\n",
    "# Inherently any loss based fairness regulariser is unstable and needs large batches.\n",
    "# This is particularly true for Equal Opportunity when positive target labels and particular groups are sparse.\n",
    "# 1000 is copied from their code. It might not be large enough, but it is already causing a 6x slow down.\n",
    "batch_size = 1000\n",
    "\n",
    "for epoch in range(100):\n",
    "    #shuffle data\n",
    "    perm = random.permutation(fairret_target.shape[0])\n",
    "    target = fairret_target[perm]\n",
    "    data = fairret_data[perm]\n",
    "    groups = fairret_groups[perm]\n",
    "    if epoch%10==0:\n",
    "        print ('epoch is %d'%epoch)\n",
    "    for step in range(target.shape[0]//batch_size): # This discards the final incomplete batch\n",
    "        optimizer_1head.zero_grad()\n",
    "        l = loss_1head(fairret_data[step*batch_size:(1+step)*batch_size],\n",
    "                 fairret_target[step*batch_size:(1+step)*batch_size],\n",
    "                 fairret_groups[step*batch_size:(1+step)*batch_size],1)\n",
    "        l.backward()\n",
    "        optimizer_1head.step()"
   ]
  },
  {
   "cell_type": "code",
   "execution_count": 9,
   "metadata": {},
   "outputs": [],
   "source": [
    "#convert test['data'] to tensor via numpy and then move the output back to numpy\n",
    "test_output=np.asarray(network(torch.tensor(np.asarray(test['data'])).float()).detach())\n",
    "test_output_1head=np.asarray(network_1head(torch.tensor(np.asarray(test['data'])).float()).detach())\n"
   ]
  },
  {
   "cell_type": "code",
   "execution_count": 10,
   "metadata": {},
   "outputs": [],
   "source": [
    "#Let's train a fair classifier using the two heads \n",
    "#convert val['data'] to tensor via numpy and then move the output back to numpy\n",
    "val_output = np.asarray(network(torch.tensor(np.asarray(val['data'])).float()).detach())\n",
    "train_output = np.asarray(network(torch.tensor(np.asarray(train['data'])).float()).detach())\n",
    "test_output = np.asarray(network(torch.tensor(np.asarray(test['data'])).float()).detach())\n"
   ]
  },
  {
   "cell_type": "code",
   "execution_count": 11,
   "metadata": {},
   "outputs": [],
   "source": [
    "# Set up a fairpredictor using the neural network over the validation data\n",
    "fpred = oxonfair.DeepFairPredictor(val['target'],\n",
    "                                   val_output,\n",
    "                                   groups=val['groups'])\n",
    "\n",
    "# Enforce EO to within 1%\n",
    "fpred.fit(gm.accuracy, gm.equal_opportunity, 0.01)\n",
    "# Varying the grid with can improve accuracy at the cost of a longer search time."
   ]
  },
  {
   "cell_type": "code",
   "execution_count": 12,
   "metadata": {},
   "outputs": [],
   "source": [
    "test_network = oxonfair.DeepDataDict(test['target'], test_output, test['groups'])"
   ]
  },
  {
   "cell_type": "code",
   "execution_count": 13,
   "metadata": {},
   "outputs": [
    {
     "data": {
      "text/plain": [
       "0    0.842353\n",
       "0    0.052732\n",
       "dtype: float64"
      ]
     },
     "execution_count": 13,
     "metadata": {},
     "output_type": "execute_result"
    }
   ],
   "source": [
    "# Compute\n",
    "import pandas as pd\n",
    "fairret_score = pd.concat((oxonfair.performance.evaluate(test['target'],test_output_1head.reshape(-1)).loc['Accuracy'],\n",
    "                           oxonfair.performance.evaluate_fairness(test['target'],test_output_1head.reshape(-1),test['groups']).loc['Equal Opportunity']))\n",
    "fairret_score"
   ]
  },
  {
   "cell_type": "code",
   "execution_count": 14,
   "metadata": {},
   "outputs": [],
   "source": [
    "# To emphasize that you shouldn't use standard neural networks on tabular data, \n",
    "# we compare with xgboost\n",
    "# train a base classifier\n",
    "pred = xgboost.XGBClassifier().fit(X=train['data'],y=train['target'])\n",
    "# and a second classifier to infer group membership\n",
    "group_pred = xgboost.XGBClassifier().fit(X=train['data'],y=train['groups'] == ' Male')\n",
    "fpred2 = oxonfair.FairPredictor(pred,val, inferred_groups=group_pred)\n",
    "fpred2.fit(gm.accuracy, gm.equal_opportunity, 0.01)\n"
   ]
  },
  {
   "cell_type": "code",
   "execution_count": 15,
   "metadata": {},
   "outputs": [
    {
     "data": {
      "text/plain": [
       "<matplotlib.legend.Legend at 0x3234d0dc0>"
      ]
     },
     "execution_count": 15,
     "metadata": {},
     "output_type": "execute_result"
    },
    {
     "data": {
      "image/png": "[encoded data removed]",
      "text/plain": [
       "<Figure size 640x480 with 1 Axes>"
      ]
     },
     "metadata": {},
     "output_type": "display_data"
    }
   ],
   "source": [
    "from matplotlib import pyplot as plt\n",
    "fpred2.plot_frontier(data=test, name_frontier='XGBoost Front')\n",
    "fpred.plot_frontier(data=test_network, new_plot=False,name_frontier='Neural Net Front')\n",
    "plt.scatter(y=fairret_score.iloc[0],x=fairret_score.iloc[1],label='Fairrets',marker='X')\n",
    "plt.legend()\n"
   ]
  },
  {
   "cell_type": "markdown",
   "metadata": {},
   "source": [
    "The frontier turning into this kind of noisy point cloud is expected on test data. \n",
    "\n",
    "For very small measures of fairness differences in sampling can lead to noticeable shifts in ordering creating these unstable orderings.\n",
    "\n",
    " For comparison here are the clean curves on validation data (where fairness was enforced)"
   ]
  },
  {
   "cell_type": "code",
   "execution_count": 16,
   "metadata": {},
   "outputs": [
    {
     "data": {
      "image/png": "[encoded data removed]",
      "text/plain": [
       "<Figure size 640x480 with 1 Axes>"
      ]
     },
     "metadata": {},
     "output_type": "display_data"
    }
   ],
   "source": [
    "fpred2.plot_frontier(name_frontier='XGBoost Front')\n",
    "fpred.plot_frontier(new_plot=False,name_frontier='Neural Net Front')"
   ]
  },
  {
   "cell_type": "code",
   "execution_count": 17,
   "metadata": {},
   "outputs": [],
   "source": [
    "# Finally let's show how the 2-headed network can be merged into a single-headed network that makes fair predictions.\n",
    "# We copy the network and create a fair version\n",
    "import copy\n",
    "fair_network= copy.deepcopy(network)\n",
    "# We replace the final linear layer with a 1 dimensional head.\n",
    "fair_network[4]=nn.Linear(50,1)\n",
    "#Now we merge the weights \n",
    "fair_network[4].weight.data[:] = (network[4].weight[0] + fpred.extract_coefficients()[0]*network[4].weight[1]).data\n",
    "# and the biases\n",
    "fair_network[4].bias.data[:] = (network[4].bias[0] + fpred.extract_coefficients()[0]*network[4].bias[1]).data\n",
    "# and add the extra bias term\n",
    "fair_network[4].bias.data += fpred.extract_coefficients()[1]\n"
   ]
  },
  {
   "cell_type": "code",
   "execution_count": 18,
   "metadata": {},
   "outputs": [],
   "source": [
    "# Evaluate the new fair network on test\n",
    "test_output_fair=np.asarray(fair_network(torch.tensor(np.asarray(test['data'])).float()).detach())"
   ]
  },
  {
   "cell_type": "code",
   "execution_count": 19,
   "metadata": {},
   "outputs": [
    {
     "data": {
      "text/plain": [
       "0    0.853341\n",
       "0    0.015417\n",
       "dtype: float64"
      ]
     },
     "execution_count": 19,
     "metadata": {},
     "output_type": "execute_result"
    }
   ],
   "source": [
    "pd.concat((oxonfair.performance.evaluate(test['target'],test_output_fair.reshape(-1)).loc['Accuracy'],\n",
    "                           oxonfair.performance.evaluate_fairness(test['target'],test_output_fair.reshape(-1),test['groups']).loc['Equal Opportunity']))"
   ]
  },
  {
   "cell_type": "code",
   "execution_count": 20,
   "metadata": {},
   "outputs": [
    {
     "data": {
      "text/plain": [
       "0    0.842353\n",
       "0    0.052732\n",
       "dtype: float64"
      ]
     },
     "execution_count": 20,
     "metadata": {},
     "output_type": "execute_result"
    }
   ],
   "source": [
    "# The same score for fairrets was\n",
    "fairret_score"
   ]
  },
  {
   "cell_type": "code",
   "execution_count": null,
   "metadata": {},
   "outputs": [],
   "source": []
  }
 ],
 "metadata": {
  "kernelspec": {
   "display_name": "py3.8",
   "language": "python",
   "name": "python3"
  },
  "language_info": {
   "codemirror_mode": {
    "name": "ipython",
    "version": 3
   },
   "file_extension": ".py",
   "mimetype": "text/x-python",
   "name": "python",
   "nbconvert_exporter": "python",
   "pygments_lexer": "ipython3",
   "version": "3.8.18"
  }
 },
 "nbformat": 4,
 "nbformat_minor": 2
}
