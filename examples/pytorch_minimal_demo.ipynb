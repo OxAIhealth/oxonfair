{
 "cells": [
  {
   "cell_type": "markdown",
   "metadata": {},
   "source": [
    "# Pytorch example\n",
    "\n",
    "This file shows a minimal pytorch example running on adult data, and demonstrating head-merging.\n",
    "\n",
    "In general, we strongly recommend that you *do not* use neural networks on tabular data. Boosting is typically higher performing and much faster to run.\n",
    "\n",
    "However, this is a toy example, and unlike computer vision examples, it should train and run in a matter of minutes. The techniques shown will directly apply to computer vision and NLP without modification."
   ]
  },
  {
   "cell_type": "code",
   "execution_count": 1,
   "metadata": {
    "execution": {
     "iopub.execute_input": "2024-06-17T19:18:59.786451Z",
     "iopub.status.busy": "2024-06-17T19:18:59.786070Z",
     "iopub.status.idle": "2024-06-17T19:19:04.141132Z",
     "shell.execute_reply": "2024-06-17T19:19:04.140766Z"
    }
   },
   "outputs": [],
   "source": [
    "# Load libraries\n",
    "\n",
    "import oxonfair\n",
    "from oxonfair import group_metrics as gm\n",
    "\n",
    "import numpy as np\n",
    "import torch\n",
    "import torch.nn.functional as F\n",
    "from torch import nn, optim\n"
   ]
  },
  {
   "cell_type": "code",
   "execution_count": 2,
   "metadata": {
    "execution": {
     "iopub.execute_input": "2024-06-17T19:19:04.142997Z",
     "iopub.status.busy": "2024-06-17T19:19:04.142811Z",
     "iopub.status.idle": "2024-06-17T19:19:12.275644Z",
     "shell.execute_reply": "2024-06-17T19:19:12.274964Z"
    }
   },
   "outputs": [],
   "source": [
    "#Load adult dataset, using sex as the default groups and discard sex from the raw data\n",
    "train, val, test = oxonfair.dataset_loader.adult(discard_groups=True)"
   ]
  },
  {
   "cell_type": "code",
   "execution_count": 3,
   "metadata": {
    "execution": {
     "iopub.execute_input": "2024-06-17T19:19:12.278230Z",
     "iopub.status.busy": "2024-06-17T19:19:12.277862Z",
     "iopub.status.idle": "2024-06-17T19:19:12.282936Z",
     "shell.execute_reply": "2024-06-17T19:19:12.282509Z"
    }
   },
   "outputs": [],
   "source": [
    "#Normalise data\n",
    "std = train['data'].std()\n",
    "train['data'] = train['data'] / std\n",
    "val['data'] = val['data'] / std\n",
    "test['data'] = test['data'] / std"
   ]
  },
  {
   "cell_type": "code",
   "execution_count": 4,
   "metadata": {
    "execution": {
     "iopub.execute_input": "2024-06-17T19:19:12.285243Z",
     "iopub.status.busy": "2024-06-17T19:19:12.284809Z",
     "iopub.status.idle": "2024-06-17T19:19:12.289646Z",
     "shell.execute_reply": "2024-06-17T19:19:12.289119Z"
    }
   },
   "outputs": [],
   "source": [
    "#define a basic nn with 2 hiden-layers. 1 of width 100, and the second width 50.\n",
    "network = nn.Sequential(nn.Linear(train['data'].shape[1],100),\n",
    "                        nn.SELU(),\n",
    "                        nn.Linear(100,50),\n",
    "                        nn.SELU(),\n",
    "                        nn.Linear(50,2))"
   ]
  },
  {
   "cell_type": "code",
   "execution_count": 5,
   "metadata": {
    "execution": {
     "iopub.execute_input": "2024-06-17T19:19:12.291648Z",
     "iopub.status.busy": "2024-06-17T19:19:12.291459Z",
     "iopub.status.idle": "2024-06-17T19:19:12.294650Z",
     "shell.execute_reply": "2024-06-17T19:19:12.294038Z"
    }
   },
   "outputs": [],
   "source": [
    "# Define a custom loss that trains the two-heads as required.\n",
    "def loss(x, y, g):\n",
    "    output = network(x)\n",
    "    loss0 = F.binary_cross_entropy_with_logits(output[:,0], y)\n",
    "    loss1 = F.mse_loss(output[:,1], g)\n",
    "    return loss0+loss1"
   ]
  },
  {
   "cell_type": "code",
   "execution_count": 6,
   "metadata": {
    "execution": {
     "iopub.execute_input": "2024-06-17T19:19:12.297813Z",
     "iopub.status.busy": "2024-06-17T19:19:12.296845Z",
     "iopub.status.idle": "2024-06-17T19:19:13.143869Z",
     "shell.execute_reply": "2024-06-17T19:19:13.083352Z"
    }
   },
   "outputs": [],
   "source": [
    "# Copy variables to tensors\n",
    "target = torch.tensor(train['target']).float()\n",
    "data = torch.tensor(np.asarray(train['data'])).float()\n",
    "groups = torch.tensor(train['groups']==' Male').float()\n",
    "\n",
    "optimizer = optim.Adam(network.parameters(), lr=1e-4)\n",
    "from numpy import random"
   ]
  },
  {
   "cell_type": "code",
   "execution_count": 7,
   "metadata": {
    "execution": {
     "iopub.execute_input": "2024-06-17T19:19:13.146915Z",
     "iopub.status.busy": "2024-06-17T19:19:13.146763Z",
     "iopub.status.idle": "2024-06-17T19:19:27.847654Z",
     "shell.execute_reply": "2024-06-17T19:19:27.845472Z"
    }
   },
   "outputs": [
    {
     "name": "stdout",
     "output_type": "stream",
     "text": [
      "epoch is 0\n",
      "epoch is 10\n",
      "epoch is 20\n",
      "epoch is 30\n",
      "epoch is 40\n"
     ]
    }
   ],
   "source": [
    "# Train the network\n",
    "batch_size = 100\n",
    "\n",
    "for epoch in range(50):\n",
    "    #shuffle data\n",
    "    perm = random.permutation(target.shape[0])\n",
    "    target = target[perm]\n",
    "    data = data[perm]\n",
    "    groups = groups[perm]\n",
    "    if epoch%10==0:\n",
    "        print ('epoch is %d'%epoch)\n",
    "    for step in range(target.shape[0]//batch_size): # This discards the final incomplete batch\n",
    "        optimizer.zero_grad()\n",
    "        l = loss(data[step*batch_size:(1+step)*batch_size],\n",
    "                 target[step*batch_size:(1+step)*batch_size],\n",
    "                 groups[step*batch_size:(1+step)*batch_size])\n",
    "        l.backward()\n",
    "        optimizer.step()"
   ]
  },
  {
   "cell_type": "code",
   "execution_count": 8,
   "metadata": {
    "execution": {
     "iopub.execute_input": "2024-06-17T19:19:27.861148Z",
     "iopub.status.busy": "2024-06-17T19:19:27.860200Z",
     "iopub.status.idle": "2024-06-17T19:19:27.979998Z",
     "shell.execute_reply": "2024-06-17T19:19:27.978176Z"
    }
   },
   "outputs": [],
   "source": [
    "#convert test['data'] to tensor via numpy and then move the output back to numpy\n",
    "test_output=np.asarray(network(torch.tensor(np.asarray(test['data'])).float()).detach())"
   ]
  },
  {
   "cell_type": "markdown",
   "metadata": {},
   "source": [
    "To see if training works we visualize the outputs of the second head (corresponding to gender)\n",
    "\n",
    "Ideally, this should be a two peaked distribution centered on 0 and 1, with more values at 1 -- corresponding to the male label.\n",
    "\n",
    "Instead, we find we have 1 peak centered on 1, a broader central peak corresponding to 'don't know' centered around 0.5 and a third smaller peak around 0.2 and 0.\n",
    "\n",
    "This is fine. The broad central peak reflects the ambiguity of the task, and otherwise we do have something of a split into male and female."
   ]
  },
  {
   "cell_type": "code",
   "execution_count": 9,
   "metadata": {
    "execution": {
     "iopub.execute_input": "2024-06-17T19:19:27.986127Z",
     "iopub.status.busy": "2024-06-17T19:19:27.985936Z",
     "iopub.status.idle": "2024-06-17T19:19:29.234054Z",
     "shell.execute_reply": "2024-06-17T19:19:29.231943Z"
    }
   },
   "outputs": [
    {
     "data": {
      "image/png": "[encoded data removed]",
      "text/plain": [
       "<Figure size 640x480 with 1 Axes>"
      ]
     },
     "metadata": {},
     "output_type": "display_data"
    }
   ],
   "source": [
    "#Plot the outputs of the second head\n",
    "from matplotlib import pyplot as plt\n",
    "_=plt.hist(test_output[:,1],bins=50)"
   ]
  },
  {
   "cell_type": "code",
   "execution_count": 10,
   "metadata": {
    "execution": {
     "iopub.execute_input": "2024-06-17T19:19:29.247695Z",
     "iopub.status.busy": "2024-06-17T19:19:29.247389Z",
     "iopub.status.idle": "2024-06-17T19:19:29.289863Z",
     "shell.execute_reply": "2024-06-17T19:19:29.287757Z"
    }
   },
   "outputs": [],
   "source": [
    "#Let's train a fair classifier using the two heads \n",
    "#convert val['data'] to tensor via numpy and then move the output back to numpy\n",
    "val_output = np.asarray(network(torch.tensor(np.asarray(val['data'])).float()).detach())\n",
    "\n"
   ]
  },
  {
   "cell_type": "code",
   "execution_count": 37,
   "metadata": {
    "execution": {
     "iopub.execute_input": "2024-06-17T19:19:29.294341Z",
     "iopub.status.busy": "2024-06-17T19:19:29.293700Z",
     "iopub.status.idle": "2024-06-17T19:19:58.363387Z",
     "shell.execute_reply": "2024-06-17T19:19:58.345518Z"
    }
   },
   "outputs": [],
   "source": [
    "fpred = oxonfair.DeepFairPredictor(val['target'],\n",
    "                                   val_output,\n",
    "                                   groups=val['groups'])\n",
    "# Enforce fairness on validation data -- i.e. demographic/statistical parity should be within 2 %\n",
    "fpred.fit(gm.accuracy, gm.demographic_parity, 0.02,grid_width=75)\n",
    "# Varying the grid with can improve accuracy at the cost of a longer search time."
   ]
  },
  {
   "cell_type": "code",
   "execution_count": 38,
   "metadata": {
    "execution": {
     "iopub.execute_input": "2024-06-17T19:19:58.436634Z",
     "iopub.status.busy": "2024-06-17T19:19:58.434899Z",
     "iopub.status.idle": "2024-06-17T19:19:58.756768Z",
     "shell.execute_reply": "2024-06-17T19:19:58.756355Z"
    }
   },
   "outputs": [
    {
     "data": {
      "text/html": [
       "<div>\n",
       "<style scoped>\n",
       "    .dataframe tbody tr th:only-of-type {\n",
       "        vertical-align: middle;\n",
       "    }\n",
       "\n",
       "    .dataframe tbody tr th {\n",
       "        vertical-align: top;\n",
       "    }\n",
       "\n",
       "    .dataframe thead th {\n",
       "        text-align: right;\n",
       "    }\n",
       "</style>\n",
       "<table border=\"1\" class=\"dataframe\">\n",
       "  <thead>\n",
       "    <tr style=\"text-align: right;\">\n",
       "      <th></th>\n",
       "      <th>original</th>\n",
       "      <th>updated</th>\n",
       "    </tr>\n",
       "  </thead>\n",
       "  <tbody>\n",
       "    <tr>\n",
       "      <th>Accuracy</th>\n",
       "      <td>0.847830</td>\n",
       "      <td>0.831122</td>\n",
       "    </tr>\n",
       "    <tr>\n",
       "      <th>Balanced Accuracy</th>\n",
       "      <td>0.762406</td>\n",
       "      <td>0.721869</td>\n",
       "    </tr>\n",
       "    <tr>\n",
       "      <th>F1 score</th>\n",
       "      <td>0.653099</td>\n",
       "      <td>0.592168</td>\n",
       "    </tr>\n",
       "    <tr>\n",
       "      <th>MCC</th>\n",
       "      <td>0.560485</td>\n",
       "      <td>0.498524</td>\n",
       "    </tr>\n",
       "    <tr>\n",
       "      <th>Precision</th>\n",
       "      <td>0.718570</td>\n",
       "      <td>0.701500</td>\n",
       "    </tr>\n",
       "    <tr>\n",
       "      <th>Recall</th>\n",
       "      <td>0.598563</td>\n",
       "      <td>0.512320</td>\n",
       "    </tr>\n",
       "    <tr>\n",
       "      <th>ROC AUC</th>\n",
       "      <td>0.898272</td>\n",
       "      <td>0.874854</td>\n",
       "    </tr>\n",
       "  </tbody>\n",
       "</table>\n",
       "</div>"
      ],
      "text/plain": [
       "                   original   updated\n",
       "Accuracy           0.847830  0.831122\n",
       "Balanced Accuracy  0.762406  0.721869\n",
       "F1 score           0.653099  0.592168\n",
       "MCC                0.560485  0.498524\n",
       "Precision          0.718570  0.701500\n",
       "Recall             0.598563  0.512320\n",
       "ROC AUC            0.898272  0.874854"
      ]
     },
     "execution_count": 38,
     "metadata": {},
     "output_type": "execute_result"
    }
   ],
   "source": [
    "# Check performance drop\n",
    "fpred.evaluate()"
   ]
  },
  {
   "cell_type": "code",
   "execution_count": 13,
   "metadata": {
    "execution": {
     "iopub.execute_input": "2024-06-17T19:19:58.803222Z",
     "iopub.status.busy": "2024-06-17T19:19:58.802592Z",
     "iopub.status.idle": "2024-06-17T19:19:58.886894Z",
     "shell.execute_reply": "2024-06-17T19:19:58.886449Z"
    }
   },
   "outputs": [
    {
     "data": {
      "text/html": [
       "<div>\n",
       "<style scoped>\n",
       "    .dataframe tbody tr th:only-of-type {\n",
       "        vertical-align: middle;\n",
       "    }\n",
       "\n",
       "    .dataframe tbody tr th {\n",
       "        vertical-align: top;\n",
       "    }\n",
       "\n",
       "    .dataframe thead th {\n",
       "        text-align: right;\n",
       "    }\n",
       "</style>\n",
       "<table border=\"1\" class=\"dataframe\">\n",
       "  <thead>\n",
       "    <tr style=\"text-align: right;\">\n",
       "      <th></th>\n",
       "      <th>original</th>\n",
       "      <th>updated</th>\n",
       "    </tr>\n",
       "  </thead>\n",
       "  <tbody>\n",
       "    <tr>\n",
       "      <th>Statistical Parity</th>\n",
       "      <td>0.198062</td>\n",
       "      <td>0.017746</td>\n",
       "    </tr>\n",
       "    <tr>\n",
       "      <th>Predictive Parity</th>\n",
       "      <td>0.027956</td>\n",
       "      <td>0.224696</td>\n",
       "    </tr>\n",
       "    <tr>\n",
       "      <th>Equal Opportunity</th>\n",
       "      <td>0.205310</td>\n",
       "      <td>0.268446</td>\n",
       "    </tr>\n",
       "    <tr>\n",
       "      <th>Average Group Difference in False Negative Rate</th>\n",
       "      <td>0.205310</td>\n",
       "      <td>0.268446</td>\n",
       "    </tr>\n",
       "    <tr>\n",
       "      <th>Equalized Odds</th>\n",
       "      <td>0.144108</td>\n",
       "      <td>0.143545</td>\n",
       "    </tr>\n",
       "    <tr>\n",
       "      <th>Conditional Use Accuracy</th>\n",
       "      <td>0.056734</td>\n",
       "      <td>0.201382</td>\n",
       "    </tr>\n",
       "    <tr>\n",
       "      <th>Average Group Difference in Accuracy</th>\n",
       "      <td>0.102731</td>\n",
       "      <td>0.133009</td>\n",
       "    </tr>\n",
       "    <tr>\n",
       "      <th>Treatment Equality</th>\n",
       "      <td>0.330283</td>\n",
       "      <td>0.881673</td>\n",
       "    </tr>\n",
       "  </tbody>\n",
       "</table>\n",
       "</div>"
      ],
      "text/plain": [
       "                                                 original   updated\n",
       "Statistical Parity                               0.198062  0.017746\n",
       "Predictive Parity                                0.027956  0.224696\n",
       "Equal Opportunity                                0.205310  0.268446\n",
       "Average Group Difference in False Negative Rate  0.205310  0.268446\n",
       "Equalized Odds                                   0.144108  0.143545\n",
       "Conditional Use Accuracy                         0.056734  0.201382\n",
       "Average Group Difference in Accuracy             0.102731  0.133009\n",
       "Treatment Equality                               0.330283  0.881673"
      ]
     },
     "execution_count": 13,
     "metadata": {},
     "output_type": "execute_result"
    }
   ],
   "source": [
    "# and fairness\n",
    "fpred.evaluate_fairness()"
   ]
  },
  {
   "cell_type": "code",
   "execution_count": 14,
   "metadata": {
    "execution": {
     "iopub.execute_input": "2024-06-17T19:19:58.891498Z",
     "iopub.status.busy": "2024-06-17T19:19:58.891329Z",
     "iopub.status.idle": "2024-06-17T19:19:59.377465Z",
     "shell.execute_reply": "2024-06-17T19:19:59.376942Z"
    }
   },
   "outputs": [
    {
     "data": {
      "image/png": "[encoded data removed]",
      "text/plain": [
       "<Figure size 640x480 with 1 Axes>"
      ]
     },
     "metadata": {},
     "output_type": "display_data"
    }
   ],
   "source": [
    "#Visualise the possible trade-offs\n",
    "fpred.plot_frontier()"
   ]
  },
  {
   "cell_type": "code",
   "execution_count": 15,
   "metadata": {
    "execution": {
     "iopub.execute_input": "2024-06-17T19:19:59.382198Z",
     "iopub.status.busy": "2024-06-17T19:19:59.381925Z",
     "iopub.status.idle": "2024-06-17T19:19:59.789703Z",
     "shell.execute_reply": "2024-06-17T19:19:59.789389Z"
    }
   },
   "outputs": [
    {
     "data": {
      "image/png": "[encoded data removed]",
      "text/plain": [
       "<Figure size 640x480 with 1 Axes>"
      ]
     },
     "metadata": {},
     "output_type": "display_data"
    }
   ],
   "source": [
    "#To quickly select another point from the frontier, you can call it with recompute=False\n",
    "fpred.fit(gm.accuracy, gm.demographic_parity, 0.05, recompute=False)\n",
    "fpred.plot_frontier()\n"
   ]
  },
  {
   "cell_type": "code",
   "execution_count": 16,
   "metadata": {
    "execution": {
     "iopub.execute_input": "2024-06-17T19:19:59.792911Z",
     "iopub.status.busy": "2024-06-17T19:19:59.792623Z",
     "iopub.status.idle": "2024-06-17T19:19:59.795145Z",
     "shell.execute_reply": "2024-06-17T19:19:59.794795Z"
    }
   },
   "outputs": [],
   "source": [
    "# to evaluate how it's working on the test set, we'll create a new dataset holder\n",
    "test_network = oxonfair.DeepDataDict(test['target'], test_output, test['groups'])"
   ]
  },
  {
   "cell_type": "code",
   "execution_count": 17,
   "metadata": {
    "execution": {
     "iopub.execute_input": "2024-06-17T19:19:59.797298Z",
     "iopub.status.busy": "2024-06-17T19:19:59.797154Z",
     "iopub.status.idle": "2024-06-17T19:19:59.854729Z",
     "shell.execute_reply": "2024-06-17T19:19:59.854107Z"
    }
   },
   "outputs": [
    {
     "data": {
      "text/html": [
       "<div>\n",
       "<style scoped>\n",
       "    .dataframe tbody tr th:only-of-type {\n",
       "        vertical-align: middle;\n",
       "    }\n",
       "\n",
       "    .dataframe tbody tr th {\n",
       "        vertical-align: top;\n",
       "    }\n",
       "\n",
       "    .dataframe thead th {\n",
       "        text-align: right;\n",
       "    }\n",
       "</style>\n",
       "<table border=\"1\" class=\"dataframe\">\n",
       "  <thead>\n",
       "    <tr style=\"text-align: right;\">\n",
       "      <th></th>\n",
       "      <th>original</th>\n",
       "      <th>updated</th>\n",
       "    </tr>\n",
       "  </thead>\n",
       "  <tbody>\n",
       "    <tr>\n",
       "      <th>Accuracy</th>\n",
       "      <td>0.843092</td>\n",
       "      <td>0.835312</td>\n",
       "    </tr>\n",
       "    <tr>\n",
       "      <th>Balanced Accuracy</th>\n",
       "      <td>0.756238</td>\n",
       "      <td>0.694122</td>\n",
       "    </tr>\n",
       "    <tr>\n",
       "      <th>F1 score</th>\n",
       "      <td>0.642671</td>\n",
       "      <td>0.551616</td>\n",
       "    </tr>\n",
       "    <tr>\n",
       "      <th>MCC</th>\n",
       "      <td>0.546807</td>\n",
       "      <td>0.495812</td>\n",
       "    </tr>\n",
       "    <tr>\n",
       "      <th>Precision</th>\n",
       "      <td>0.706148</td>\n",
       "      <td>0.791427</td>\n",
       "    </tr>\n",
       "    <tr>\n",
       "      <th>Recall</th>\n",
       "      <td>0.589665</td>\n",
       "      <td>0.423340</td>\n",
       "    </tr>\n",
       "    <tr>\n",
       "      <th>ROC AUC</th>\n",
       "      <td>0.898294</td>\n",
       "      <td>0.888081</td>\n",
       "    </tr>\n",
       "  </tbody>\n",
       "</table>\n",
       "</div>"
      ],
      "text/plain": [
       "                   original   updated\n",
       "Accuracy           0.843092  0.835312\n",
       "Balanced Accuracy  0.756238  0.694122\n",
       "F1 score           0.642671  0.551616\n",
       "MCC                0.546807  0.495812\n",
       "Precision          0.706148  0.791427\n",
       "Recall             0.589665  0.423340\n",
       "ROC AUC            0.898294  0.888081"
      ]
     },
     "execution_count": 17,
     "metadata": {},
     "output_type": "execute_result"
    }
   ],
   "source": [
    "#And evaluate\n",
    "fpred.evaluate(test_network)"
   ]
  },
  {
   "cell_type": "code",
   "execution_count": 18,
   "metadata": {
    "execution": {
     "iopub.execute_input": "2024-06-17T19:19:59.857148Z",
     "iopub.status.busy": "2024-06-17T19:19:59.856991Z",
     "iopub.status.idle": "2024-06-17T19:19:59.937419Z",
     "shell.execute_reply": "2024-06-17T19:19:59.937029Z"
    }
   },
   "outputs": [
    {
     "data": {
      "text/html": [
       "<div>\n",
       "<style scoped>\n",
       "    .dataframe tbody tr th:only-of-type {\n",
       "        vertical-align: middle;\n",
       "    }\n",
       "\n",
       "    .dataframe tbody tr th {\n",
       "        vertical-align: top;\n",
       "    }\n",
       "\n",
       "    .dataframe thead th {\n",
       "        text-align: right;\n",
       "    }\n",
       "</style>\n",
       "<table border=\"1\" class=\"dataframe\">\n",
       "  <thead>\n",
       "    <tr style=\"text-align: right;\">\n",
       "      <th></th>\n",
       "      <th>original</th>\n",
       "      <th>updated</th>\n",
       "    </tr>\n",
       "  </thead>\n",
       "  <tbody>\n",
       "    <tr>\n",
       "      <th>Statistical Parity</th>\n",
       "      <td>0.198062</td>\n",
       "      <td>0.045901</td>\n",
       "    </tr>\n",
       "    <tr>\n",
       "      <th>Predictive Parity</th>\n",
       "      <td>0.027956</td>\n",
       "      <td>0.187650</td>\n",
       "    </tr>\n",
       "    <tr>\n",
       "      <th>Equal Opportunity</th>\n",
       "      <td>0.205310</td>\n",
       "      <td>0.180463</td>\n",
       "    </tr>\n",
       "    <tr>\n",
       "      <th>Average Group Difference in False Negative Rate</th>\n",
       "      <td>0.205310</td>\n",
       "      <td>0.180463</td>\n",
       "    </tr>\n",
       "    <tr>\n",
       "      <th>Equalized Odds</th>\n",
       "      <td>0.144108</td>\n",
       "      <td>0.092642</td>\n",
       "    </tr>\n",
       "    <tr>\n",
       "      <th>Conditional Use Accuracy</th>\n",
       "      <td>0.056734</td>\n",
       "      <td>0.175476</td>\n",
       "    </tr>\n",
       "    <tr>\n",
       "      <th>Average Group Difference in Accuracy</th>\n",
       "      <td>0.102731</td>\n",
       "      <td>0.127016</td>\n",
       "    </tr>\n",
       "    <tr>\n",
       "      <th>Treatment Equality</th>\n",
       "      <td>0.330283</td>\n",
       "      <td>0.595324</td>\n",
       "    </tr>\n",
       "  </tbody>\n",
       "</table>\n",
       "</div>"
      ],
      "text/plain": [
       "                                                 original   updated\n",
       "Statistical Parity                               0.198062  0.045901\n",
       "Predictive Parity                                0.027956  0.187650\n",
       "Equal Opportunity                                0.205310  0.180463\n",
       "Average Group Difference in False Negative Rate  0.205310  0.180463\n",
       "Equalized Odds                                   0.144108  0.092642\n",
       "Conditional Use Accuracy                         0.056734  0.175476\n",
       "Average Group Difference in Accuracy             0.102731  0.127016\n",
       "Treatment Equality                               0.330283  0.595324"
      ]
     },
     "execution_count": 18,
     "metadata": {},
     "output_type": "execute_result"
    }
   ],
   "source": [
    "fpred.evaluate_fairness()"
   ]
  },
  {
   "cell_type": "code",
   "execution_count": 19,
   "metadata": {
    "execution": {
     "iopub.execute_input": "2024-06-17T19:19:59.940294Z",
     "iopub.status.busy": "2024-06-17T19:19:59.939973Z",
     "iopub.status.idle": "2024-06-17T19:19:59.942597Z",
     "shell.execute_reply": "2024-06-17T19:19:59.942335Z"
    }
   },
   "outputs": [
    {
     "data": {
      "text/plain": [
       "(-1.692, 0.7363)"
      ]
     },
     "execution_count": 19,
     "metadata": {},
     "output_type": "execute_result"
    }
   ],
   "source": [
    "# Now let's merge the heads\n",
    "# We examine the coefficients first.\n",
    "fpred.extract_coefficients()"
   ]
  },
  {
   "cell_type": "markdown",
   "metadata": {},
   "source": [
    "The block below shows the merging step for two groups. \n",
    "\n",
    "When only two groups exist, we are using a binary encoding of groups and trying to predict either 0 or 1.\n",
    "The parameters we learn correspond to a scalar `a`, and bias `b`, and the predictions made by the merging:\n",
    "\n",
    "    classification_head + a * group_head +b\n",
    "\n",
    "should be fair and performant.\n",
    "\n",
    "When more than two groups exist, you should have trained the second head to output a one-hot encoding of the groups and the merging:\n",
    "\n",
    "    classification_head + a.dot(group_head)\n",
    "\n",
    "should be fair and performant."
   ]
  },
  {
   "cell_type": "code",
   "execution_count": 20,
   "metadata": {
    "execution": {
     "iopub.execute_input": "2024-06-17T19:19:59.944167Z",
     "iopub.status.busy": "2024-06-17T19:19:59.944036Z",
     "iopub.status.idle": "2024-06-17T19:19:59.959314Z",
     "shell.execute_reply": "2024-06-17T19:19:59.958777Z"
    }
   },
   "outputs": [],
   "source": [
    "# We copy the network and create a fair version\n",
    "import copy\n",
    "fair_network= copy.deepcopy(network)\n",
    "# We replace the final linear layer with a 1 dimensional head.\n",
    "fair_network[4]=nn.Linear(50,1)\n",
    "#Now we merge the weights \n",
    "fair_network[4].weight.data[:] = (network[4].weight[0] + fpred.extract_coefficients()[0]*network[4].weight[1]).data\n",
    "# and the biases\n",
    "fair_network[4].bias.data[:] = (network[4].bias[0] + fpred.extract_coefficients()[0]*network[4].bias[1]).data\n",
    "# and add the extra bias term\n",
    "fair_network[4].bias.data += fpred.extract_coefficients()[1]\n"
   ]
  },
  {
   "cell_type": "code",
   "execution_count": 21,
   "metadata": {
    "execution": {
     "iopub.execute_input": "2024-06-17T19:19:59.962110Z",
     "iopub.status.busy": "2024-06-17T19:19:59.961919Z",
     "iopub.status.idle": "2024-06-17T19:19:59.983719Z",
     "shell.execute_reply": "2024-06-17T19:19:59.983212Z"
    }
   },
   "outputs": [],
   "source": [
    "# Now let's check the fair classifier on the test set.\n",
    "test_fair_output=np.asarray(fair_network(torch.tensor(np.asarray(test['data'])).float()).detach())"
   ]
  },
  {
   "cell_type": "code",
   "execution_count": 22,
   "metadata": {
    "execution": {
     "iopub.execute_input": "2024-06-17T19:19:59.986126Z",
     "iopub.status.busy": "2024-06-17T19:19:59.985985Z",
     "iopub.status.idle": "2024-06-17T19:19:59.994638Z",
     "shell.execute_reply": "2024-06-17T19:19:59.994199Z"
    }
   },
   "outputs": [
    {
     "data": {
      "text/html": [
       "<div>\n",
       "<style scoped>\n",
       "    .dataframe tbody tr th:only-of-type {\n",
       "        vertical-align: middle;\n",
       "    }\n",
       "\n",
       "    .dataframe tbody tr th {\n",
       "        vertical-align: top;\n",
       "    }\n",
       "\n",
       "    .dataframe thead th {\n",
       "        text-align: right;\n",
       "    }\n",
       "</style>\n",
       "<table border=\"1\" class=\"dataframe\">\n",
       "  <thead>\n",
       "    <tr style=\"text-align: right;\">\n",
       "      <th></th>\n",
       "      <th>0</th>\n",
       "    </tr>\n",
       "  </thead>\n",
       "  <tbody>\n",
       "    <tr>\n",
       "      <th>Accuracy</th>\n",
       "      <td>0.835312</td>\n",
       "    </tr>\n",
       "    <tr>\n",
       "      <th>Balanced Accuracy</th>\n",
       "      <td>0.694122</td>\n",
       "    </tr>\n",
       "    <tr>\n",
       "      <th>F1 score</th>\n",
       "      <td>0.551616</td>\n",
       "    </tr>\n",
       "    <tr>\n",
       "      <th>MCC</th>\n",
       "      <td>0.495812</td>\n",
       "    </tr>\n",
       "    <tr>\n",
       "      <th>Precision</th>\n",
       "      <td>0.791427</td>\n",
       "    </tr>\n",
       "    <tr>\n",
       "      <th>Recall</th>\n",
       "      <td>0.423340</td>\n",
       "    </tr>\n",
       "    <tr>\n",
       "      <th>ROC AUC</th>\n",
       "      <td>0.888081</td>\n",
       "    </tr>\n",
       "  </tbody>\n",
       "</table>\n",
       "</div>"
      ],
      "text/plain": [
       "                          0\n",
       "Accuracy           0.835312\n",
       "Balanced Accuracy  0.694122\n",
       "F1 score           0.551616\n",
       "MCC                0.495812\n",
       "Precision          0.791427\n",
       "Recall             0.423340\n",
       "ROC AUC            0.888081"
      ]
     },
     "execution_count": 22,
     "metadata": {},
     "output_type": "execute_result"
    }
   ],
   "source": [
    "# As expected the accuracy is identical to what was reported before.\n",
    "\n",
    "oxonfair.performance.evaluate(test['target'],test_fair_output.reshape(-1))"
   ]
  },
  {
   "cell_type": "code",
   "execution_count": 23,
   "metadata": {
    "execution": {
     "iopub.execute_input": "2024-06-17T19:19:59.996913Z",
     "iopub.status.busy": "2024-06-17T19:19:59.996781Z",
     "iopub.status.idle": "2024-06-17T19:20:00.038725Z",
     "shell.execute_reply": "2024-06-17T19:20:00.037915Z"
    }
   },
   "outputs": [
    {
     "data": {
      "text/html": [
       "<div>\n",
       "<style scoped>\n",
       "    .dataframe tbody tr th:only-of-type {\n",
       "        vertical-align: middle;\n",
       "    }\n",
       "\n",
       "    .dataframe tbody tr th {\n",
       "        vertical-align: top;\n",
       "    }\n",
       "\n",
       "    .dataframe thead th {\n",
       "        text-align: right;\n",
       "    }\n",
       "</style>\n",
       "<table border=\"1\" class=\"dataframe\">\n",
       "  <thead>\n",
       "    <tr style=\"text-align: right;\">\n",
       "      <th></th>\n",
       "      <th>0</th>\n",
       "    </tr>\n",
       "  </thead>\n",
       "  <tbody>\n",
       "    <tr>\n",
       "      <th>Statistical Parity</th>\n",
       "      <td>0.042919</td>\n",
       "    </tr>\n",
       "    <tr>\n",
       "      <th>Predictive Parity</th>\n",
       "      <td>0.208145</td>\n",
       "    </tr>\n",
       "    <tr>\n",
       "      <th>Equal Opportunity</th>\n",
       "      <td>0.183621</td>\n",
       "    </tr>\n",
       "    <tr>\n",
       "      <th>Average Group Difference in False Negative Rate</th>\n",
       "      <td>0.183621</td>\n",
       "    </tr>\n",
       "    <tr>\n",
       "      <th>Equalized Odds</th>\n",
       "      <td>0.096218</td>\n",
       "    </tr>\n",
       "    <tr>\n",
       "      <th>Conditional Use Accuracy</th>\n",
       "      <td>0.185606</td>\n",
       "    </tr>\n",
       "    <tr>\n",
       "      <th>Average Group Difference in Accuracy</th>\n",
       "      <td>0.123668</td>\n",
       "    </tr>\n",
       "    <tr>\n",
       "      <th>Treatment Equality</th>\n",
       "      <td>0.664866</td>\n",
       "    </tr>\n",
       "  </tbody>\n",
       "</table>\n",
       "</div>"
      ],
      "text/plain": [
       "                                                        0\n",
       "Statistical Parity                               0.042919\n",
       "Predictive Parity                                0.208145\n",
       "Equal Opportunity                                0.183621\n",
       "Average Group Difference in False Negative Rate  0.183621\n",
       "Equalized Odds                                   0.096218\n",
       "Conditional Use Accuracy                         0.185606\n",
       "Average Group Difference in Accuracy             0.123668\n",
       "Treatment Equality                               0.664866"
      ]
     },
     "execution_count": 23,
     "metadata": {},
     "output_type": "execute_result"
    }
   ],
   "source": [
    "# And so is the fairness\n",
    "oxonfair.performance.evaluate_fairness(test['target'],test_fair_output.reshape(-1),test['groups'])"
   ]
  },
  {
   "cell_type": "code",
   "execution_count": 24,
   "metadata": {
    "execution": {
     "iopub.execute_input": "2024-06-17T19:20:00.041072Z",
     "iopub.status.busy": "2024-06-17T19:20:00.040869Z",
     "iopub.status.idle": "2024-06-17T19:20:00.044125Z",
     "shell.execute_reply": "2024-06-17T19:20:00.043628Z"
    }
   },
   "outputs": [],
   "source": [
    "# Finally, let's compare to a range of other oxonfair based classifiers.\n",
    "# These don't support head merging\n",
    "# 1. The base method that just picks the most likely group label instead of keeping track of the value returned \n",
    "fpred_standard = oxonfair.DeepFairPredictor(val['target'],\n",
    "                                              val_output,\n",
    "                                              groups=val['groups'], use_fast=True)\n",
    "# 2. A classifier that enforces fairness by using the actual group labels instead of inferred.\n",
    "fpred_true_groups = oxonfair.DeepFairPredictor(val['target'],\n",
    "                                              val_output,\n",
    "                                              groups=val['groups'], use_fast=True,use_actual_groups=True)\n",
    "\n",
    "\n",
    "# 3. Single threshold. This adjusts the global bias only, without considering group membership.\n",
    "# It works surprisingly well for criteria like recall.min, but is less useful for fairness\n",
    "fpred_thresh  = oxonfair.DeepFairPredictor(val['target'],\n",
    "                                              val_output,\n",
    "                                              groups=val['groups'], use_actual_groups='single_threshold')\n"
   ]
  },
  {
   "cell_type": "code",
   "execution_count": 25,
   "metadata": {},
   "outputs": [
    {
     "data": {
      "text/plain": [
       "(<function oxonfair.learners.fair.DeepFairPredictor.<locals>.square_align(array)>,\n",
       " False)"
      ]
     },
     "execution_count": 25,
     "metadata": {},
     "output_type": "execute_result"
    }
   ],
   "source": [
    "fpred_standard.inferred_groups, fpred_true_groups.inferred_groups"
   ]
  },
  {
   "cell_type": "code",
   "execution_count": 26,
   "metadata": {
    "execution": {
     "iopub.execute_input": "2024-06-17T19:20:00.046278Z",
     "iopub.status.busy": "2024-06-17T19:20:00.046145Z",
     "iopub.status.idle": "2024-06-17T19:20:00.065088Z",
     "shell.execute_reply": "2024-06-17T19:20:00.064691Z"
    }
   },
   "outputs": [
    {
     "name": "stderr",
     "output_type": "stream",
     "text": [
      "Fewer groups used (1) in infered groups than in the true groups (2)\n"
     ]
    }
   ],
   "source": [
    "fpred_standard.fit(gm.accuracy,gm.demographic_parity,0.05)\n",
    "fpred_true_groups.fit(gm.accuracy,gm.demographic_parity,0.05)\n",
    "fpred_thresh.fit(gm.accuracy,gm.demographic_parity,0.05)\n",
    "\n"
   ]
  },
  {
   "cell_type": "code",
   "execution_count": 27,
   "metadata": {
    "execution": {
     "iopub.execute_input": "2024-06-17T19:20:00.067975Z",
     "iopub.status.busy": "2024-06-17T19:20:00.067792Z",
     "iopub.status.idle": "2024-06-17T19:20:01.051254Z",
     "shell.execute_reply": "2024-06-17T19:20:01.050803Z"
    }
   },
   "outputs": [
    {
     "data": {
      "text/plain": [
       "(0.75, 0.8534766584766584)"
      ]
     },
     "execution_count": 27,
     "metadata": {},
     "output_type": "execute_result"
    },
    {
     "data": {
      "image/png": "[encoded data removed]",
      "text/plain": [
       "<Figure size 640x480 with 1 Axes>"
      ]
     },
     "metadata": {},
     "output_type": "display_data"
    }
   ],
   "source": [
    "# Plot of curves on validation data\n",
    "# This shows that the first three approaches are basically interchangable\n",
    "fpred_true_groups.plot_frontier(prefix='True Groups ', new_plot=False, show_original=False)\n",
    "fpred_standard.plot_frontier(prefix='Base method ', new_plot=False)\n",
    "fpred_thresh.plot_frontier(prefix='Single threshold ', new_plot=False, show_original=False)\n",
    "fpred.plot_frontier(prefix='Two heads ', new_plot=False)\n",
    "plt.ylim(bottom=0.75)"
   ]
  },
  {
   "cell_type": "code",
   "execution_count": 28,
   "metadata": {},
   "outputs": [
    {
     "data": {
      "text/plain": [
       "{'target': array([False,  True,  True, ..., False, False, False]),\n",
       " 'data':            age  workclass    fnlwgt  education  education-num  marital-status  \\\n",
       " 0     0.582314   2.725317  1.705921   2.327221       4.691393        2.647410   \n",
       " 5     2.474835   2.725317  1.699130   3.878702       3.518545        1.323705   \n",
       " 11    1.746942   2.725317  1.942097   3.102962       5.082342        1.323705   \n",
       " 15    1.965310   1.362659  0.640617   1.810061       4.300444        1.323705   \n",
       " 24    2.183678   2.725317  2.809205   3.878702       3.518545        1.323705   \n",
       " ...        ...        ...       ...        ...            ...             ...   \n",
       " 9751  0.218368   2.725317  1.685045   2.844382       3.127595        2.647410   \n",
       " 9757  0.363946   2.725317  0.385703   3.878702       3.518545        2.647410   \n",
       " 9759  3.057149   4.087976  1.767921   2.585802       5.864241        1.323705   \n",
       " 9763  4.367355   2.725317  1.274945   2.327221       4.691393        2.647410   \n",
       " 9764  1.382996   2.725317  1.934048   3.878702       3.518545        0.000000   \n",
       " \n",
       "       occupation  relationship      race  capital-gain  capital-loss  \\\n",
       " 0       3.073538      1.867604  4.715517      0.000000           0.0   \n",
       " 5       2.837112      0.000000  4.715517      0.000000           0.0   \n",
       " 11      0.945704      0.000000  4.715517      5.159078           0.0   \n",
       " 15      2.364260      0.000000  4.715517      0.000000           0.0   \n",
       " 24      1.654982      0.000000  4.715517      0.000000           0.0   \n",
       " ...          ...           ...       ...           ...           ...   \n",
       " 9751    0.236426      0.622535  4.715517      0.000000           0.0   \n",
       " 9757    1.418556      0.622535  4.715517      0.000000           0.0   \n",
       " 9759    2.364260      0.000000  4.715517      0.000000           0.0   \n",
       " 9763    2.364260      0.622535  4.715517      0.000000           0.0   \n",
       " 9764    2.837112      2.490139  2.357758      0.000000           0.0   \n",
       " \n",
       "       hours-per-week  native-country  \n",
       " 0           3.147350        5.093395  \n",
       " 5           3.147350        0.000000  \n",
       " 11          4.357869        5.093395  \n",
       " 15          3.792960        5.093395  \n",
       " 24          3.147350        0.000000  \n",
       " ...              ...             ...  \n",
       " 9751        2.340337        5.093395  \n",
       " 9757        3.147350        5.093395  \n",
       " 9759        3.147350        5.093395  \n",
       " 9763        0.726312        5.093395  \n",
       " 9764        2.985948        5.093395  \n",
       " \n",
       " [12211 rows x 13 columns],\n",
       " 'groups': array([' Female', ' Male', ' Male', ..., ' Male', ' Female', ' Female'],\n",
       "       dtype=object)}"
      ]
     },
     "execution_count": 28,
     "metadata": {},
     "output_type": "execute_result"
    }
   ],
   "source": [
    "test"
   ]
  },
  {
   "cell_type": "code",
   "execution_count": null,
   "metadata": {},
   "outputs": [],
   "source": []
  }
 ],
 "metadata": {
  "kernelspec": {
   "display_name": "py3.8",
   "language": "python",
   "name": "python3"
  },
  "language_info": {
   "codemirror_mode": {
    "name": "ipython",
    "version": 3
   },
   "file_extension": ".py",
   "mimetype": "text/x-python",
   "name": "python",
   "nbconvert_exporter": "python",
   "pygments_lexer": "ipython3",
   "version": "3.8.18"
  }
 },
 "nbformat": 4,
 "nbformat_minor": 2
}
