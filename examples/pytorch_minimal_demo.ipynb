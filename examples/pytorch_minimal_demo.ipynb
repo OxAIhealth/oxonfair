{
 "cells": [
  {
   "cell_type": "markdown",
   "metadata": {},
   "source": [
    "# Pytorch example\n",
    "\n",
    "This file shows a minimal pytorch example running on adult data, and demonstrating head-merging.\n",
    "\n",
    "In general, we strongly recommend that you *do not* use neural networks on tabular data. Boosting is typically higher performing and much faster to run.\n",
    "\n",
    "However, this is a toy example, and unlike computer vision examples, it will train and run in a matter of minutes. The techniques shown directly apply to computer vision and NLP without modification.\n",
    "\n",
    "In brief, the steps are:\n",
    "1. Train a two-headed network.   \n",
    "    The first head should predict the target attribute using binary cross entropy.  \n",
    "    The second head should predict binarized protected attributes (use a 1-hot or 0,1 encoding) using mean squared error.\n",
    "2. Create a FairPredictor using `DeepFairPredictor` with the output of the network on validation data.\n",
    "3. Call fit to enforce fairness. Use `evaluate_groups` and `plot_frontier` to explore trade-offs. \n",
    "4. Finalize the network. Use `merge_heads_pytorch` to generate a fair network with a single head.  \n",
    "    If you are not using pytorch you can still do this by hand.  \n",
    "    Call the methods `extract_coefficients` or `extract_coefficients_1_hot` and look at the code in `merge_heads_pytorch` or read the paper for instructions."
   ]
  },
  {
   "cell_type": "code",
   "execution_count": 1,
   "metadata": {
    "execution": {
     "iopub.execute_input": "2024-06-17T19:18:59.786451Z",
     "iopub.status.busy": "2024-06-17T19:18:59.786070Z",
     "iopub.status.idle": "2024-06-17T19:19:04.141132Z",
     "shell.execute_reply": "2024-06-17T19:19:04.140766Z"
    }
   },
   "outputs": [],
   "source": [
    "# Load libraries\n",
    "\n",
    "import oxonfair\n",
    "from oxonfair import group_metrics as gm\n",
    "\n",
    "import numpy as np\n",
    "import torch\n",
    "import torch.nn.functional as F\n",
    "from torch import nn, optim\n"
   ]
  },
  {
   "cell_type": "code",
   "execution_count": 2,
   "metadata": {
    "execution": {
     "iopub.execute_input": "2024-06-17T19:19:04.142997Z",
     "iopub.status.busy": "2024-06-17T19:19:04.142811Z",
     "iopub.status.idle": "2024-06-17T19:19:12.275644Z",
     "shell.execute_reply": "2024-06-17T19:19:12.274964Z"
    }
   },
   "outputs": [],
   "source": [
    "#Load adult dataset, using sex as the default groups and discard sex from the raw data\n",
    "train, val, test = oxonfair.dataset_loader.adult(discard_groups=True)"
   ]
  },
  {
   "cell_type": "code",
   "execution_count": 3,
   "metadata": {
    "execution": {
     "iopub.execute_input": "2024-06-17T19:19:12.278230Z",
     "iopub.status.busy": "2024-06-17T19:19:12.277862Z",
     "iopub.status.idle": "2024-06-17T19:19:12.282936Z",
     "shell.execute_reply": "2024-06-17T19:19:12.282509Z"
    }
   },
   "outputs": [],
   "source": [
    "#Normalise data\n",
    "std = train['data'].std()\n",
    "train['data'] = train['data'] / std\n",
    "val['data'] = val['data'] / std\n",
    "test['data'] = test['data'] / std"
   ]
  },
  {
   "cell_type": "code",
   "execution_count": 4,
   "metadata": {
    "execution": {
     "iopub.execute_input": "2024-06-17T19:19:12.285243Z",
     "iopub.status.busy": "2024-06-17T19:19:12.284809Z",
     "iopub.status.idle": "2024-06-17T19:19:12.289646Z",
     "shell.execute_reply": "2024-06-17T19:19:12.289119Z"
    }
   },
   "outputs": [],
   "source": [
    "#define a basic nn with 2 hidden-layers. 1 of width 100, and the second width 50.\n",
    "network = nn.Sequential(nn.Linear(train['data'].shape[1],100),\n",
    "                        nn.SELU(),\n",
    "                        nn.Linear(100,50),\n",
    "                        nn.SELU(),\n",
    "                        nn.Linear(50,2))"
   ]
  },
  {
   "cell_type": "code",
   "execution_count": 5,
   "metadata": {
    "execution": {
     "iopub.execute_input": "2024-06-17T19:19:12.291648Z",
     "iopub.status.busy": "2024-06-17T19:19:12.291459Z",
     "iopub.status.idle": "2024-06-17T19:19:12.294650Z",
     "shell.execute_reply": "2024-06-17T19:19:12.294038Z"
    }
   },
   "outputs": [],
   "source": [
    "# Define a custom loss that trains the two-heads as required.\n",
    "def loss(x, y, g):\n",
    "    output = network(x)\n",
    "    loss0 = F.binary_cross_entropy_with_logits(output[:,0], y)\n",
    "    loss1 = F.mse_loss(output[:,1], g)\n",
    "    return loss0+loss1\n"
   ]
  },
  {
   "cell_type": "code",
   "execution_count": 6,
   "metadata": {
    "execution": {
     "iopub.execute_input": "2024-06-17T19:19:12.297813Z",
     "iopub.status.busy": "2024-06-17T19:19:12.296845Z",
     "iopub.status.idle": "2024-06-17T19:19:13.143869Z",
     "shell.execute_reply": "2024-06-17T19:19:13.083352Z"
    }
   },
   "outputs": [],
   "source": [
    "# Copy variables to tensors\n",
    "target = torch.tensor(train['target']).float()\n",
    "data = torch.tensor(np.asarray(train['data'])).float()\n",
    "groups = torch.tensor(train['groups']==' Male').float()\n",
    "\n",
    "optimizer = optim.Adam(network.parameters(), lr=1e-4)\n",
    "from numpy import random"
   ]
  },
  {
   "cell_type": "code",
   "execution_count": 7,
   "metadata": {
    "execution": {
     "iopub.execute_input": "2024-06-17T19:19:13.146915Z",
     "iopub.status.busy": "2024-06-17T19:19:13.146763Z",
     "iopub.status.idle": "2024-06-17T19:19:27.847654Z",
     "shell.execute_reply": "2024-06-17T19:19:27.845472Z"
    }
   },
   "outputs": [
    {
     "name": "stdout",
     "output_type": "stream",
     "text": [
      "epoch is 0\n",
      "epoch is 10\n",
      "epoch is 20\n",
      "epoch is 30\n",
      "epoch is 40\n",
      "epoch is 50\n",
      "epoch is 60\n",
      "epoch is 70\n",
      "epoch is 80\n",
      "epoch is 90\n"
     ]
    }
   ],
   "source": [
    "# Train the network\n",
    "batch_size = 50\n",
    "\n",
    "for epoch in range(100):\n",
    "    #shuffle data\n",
    "    perm = random.permutation(target.shape[0])\n",
    "    target = target[perm]\n",
    "    data = data[perm]\n",
    "    groups = groups[perm]\n",
    "    if epoch%10==0:\n",
    "        print ('epoch is %d'%epoch)\n",
    "    for step in range(target.shape[0]//batch_size): # This discards the final incomplete batch\n",
    "        optimizer.zero_grad()\n",
    "        l = loss(data[step*batch_size:(1+step)*batch_size],\n",
    "                 target[step*batch_size:(1+step)*batch_size],\n",
    "                 groups[step*batch_size:(1+step)*batch_size])\n",
    "        l.backward()\n",
    "        optimizer.step()"
   ]
  },
  {
   "cell_type": "code",
   "execution_count": 8,
   "metadata": {
    "execution": {
     "iopub.execute_input": "2024-06-17T19:19:27.861148Z",
     "iopub.status.busy": "2024-06-17T19:19:27.860200Z",
     "iopub.status.idle": "2024-06-17T19:19:27.979998Z",
     "shell.execute_reply": "2024-06-17T19:19:27.978176Z"
    }
   },
   "outputs": [],
   "source": [
    "#convert test['data'] to tensor via numpy and then move the output back to numpy\n",
    "test_output=np.asarray(network(torch.tensor(np.asarray(test['data'])).float()).detach())\n"
   ]
  },
  {
   "cell_type": "markdown",
   "metadata": {},
   "source": [
    "To see if training works we visualize the outputs of the second head (corresponding to gender)\n",
    "\n",
    "Ideally, this should be a two peaked distribution centered on 0 and 1, with more values at 1 -- corresponding to the male label.\n",
    "\n",
    "Instead, we find we have 1 peak centered on 1, a broader central peak corresponding to 'don't know' centered around 0.5 and a third smaller peak around 0.2 and 0.\n",
    "\n",
    "This is fine. The broad central peak reflects the ambiguity of the task, and otherwise we do have something of a split into male and female."
   ]
  },
  {
   "cell_type": "code",
   "execution_count": 9,
   "metadata": {
    "execution": {
     "iopub.execute_input": "2024-06-17T19:19:27.986127Z",
     "iopub.status.busy": "2024-06-17T19:19:27.985936Z",
     "iopub.status.idle": "2024-06-17T19:19:29.234054Z",
     "shell.execute_reply": "2024-06-17T19:19:29.231943Z"
    }
   },
   "outputs": [
    {
     "data": {
      "image/png": "[encoded data removed]",
      "text/plain": [
       "<Figure size 640x480 with 1 Axes>"
      ]
     },
     "metadata": {},
     "output_type": "display_data"
    }
   ],
   "source": [
    "#Plot the outputs of the second head\n",
    "from matplotlib import pyplot as plt\n",
    "_=plt.hist(test_output[:,1],bins=50)"
   ]
  },
  {
   "cell_type": "code",
   "execution_count": 10,
   "metadata": {
    "execution": {
     "iopub.execute_input": "2024-06-17T19:19:29.247695Z",
     "iopub.status.busy": "2024-06-17T19:19:29.247389Z",
     "iopub.status.idle": "2024-06-17T19:19:29.289863Z",
     "shell.execute_reply": "2024-06-17T19:19:29.287757Z"
    }
   },
   "outputs": [],
   "source": [
    "#Let's train a fair classifier using the two heads \n",
    "#convert val['data'] to tensor via numpy and then move the output back to numpy\n",
    "val_output = np.asarray(network(torch.tensor(np.asarray(val['data'])).float()).detach())\n"
   ]
  },
  {
   "cell_type": "code",
   "execution_count": 11,
   "metadata": {
    "execution": {
     "iopub.execute_input": "2024-06-17T19:19:29.294341Z",
     "iopub.status.busy": "2024-06-17T19:19:29.293700Z",
     "iopub.status.idle": "2024-06-17T19:19:58.363387Z",
     "shell.execute_reply": "2024-06-17T19:19:58.345518Z"
    }
   },
   "outputs": [],
   "source": [
    "fpred = oxonfair.DeepFairPredictor(val['target'],\n",
    "                                   val_output,\n",
    "                                   groups=val['groups'])\n",
    "# Enforce fairness on validation data -- i.e. demographic/statistical parity should be within 2 %\n",
    "fpred.fit(gm.accuracy, gm.demographic_parity, 0.02,grid_width=75)\n",
    "# Varying the grid with can improve accuracy at the cost of a longer search time."
   ]
  },
  {
   "cell_type": "code",
   "execution_count": 12,
   "metadata": {
    "execution": {
     "iopub.execute_input": "2024-06-17T19:19:58.436634Z",
     "iopub.status.busy": "2024-06-17T19:19:58.434899Z",
     "iopub.status.idle": "2024-06-17T19:19:58.756768Z",
     "shell.execute_reply": "2024-06-17T19:19:58.756355Z"
    }
   },
   "outputs": [
    {
     "data": {
      "text/html": [
       "<div>\n",
       "<style scoped>\n",
       "    .dataframe tbody tr th:only-of-type {\n",
       "        vertical-align: middle;\n",
       "    }\n",
       "\n",
       "    .dataframe tbody tr th {\n",
       "        vertical-align: top;\n",
       "    }\n",
       "\n",
       "    .dataframe thead th {\n",
       "        text-align: right;\n",
       "    }\n",
       "</style>\n",
       "<table border=\"1\" class=\"dataframe\">\n",
       "  <thead>\n",
       "    <tr style=\"text-align: right;\">\n",
       "      <th></th>\n",
       "      <th>original</th>\n",
       "      <th>updated</th>\n",
       "    </tr>\n",
       "  </thead>\n",
       "  <tbody>\n",
       "    <tr>\n",
       "      <th>Accuracy</th>\n",
       "      <td>0.847011</td>\n",
       "      <td>0.831859</td>\n",
       "    </tr>\n",
       "    <tr>\n",
       "      <th>Balanced Accuracy</th>\n",
       "      <td>0.737473</td>\n",
       "      <td>0.704057</td>\n",
       "    </tr>\n",
       "    <tr>\n",
       "      <th>F1 score</th>\n",
       "      <td>0.622626</td>\n",
       "      <td>0.566420</td>\n",
       "    </tr>\n",
       "    <tr>\n",
       "      <th>MCC</th>\n",
       "      <td>0.544495</td>\n",
       "      <td>0.489700</td>\n",
       "    </tr>\n",
       "    <tr>\n",
       "      <th>Precision</th>\n",
       "      <td>0.759862</td>\n",
       "      <td>0.739658</td>\n",
       "    </tr>\n",
       "    <tr>\n",
       "      <th>Recall</th>\n",
       "      <td>0.527379</td>\n",
       "      <td>0.458932</td>\n",
       "    </tr>\n",
       "    <tr>\n",
       "      <th>ROC AUC</th>\n",
       "      <td>0.902655</td>\n",
       "      <td>0.888533</td>\n",
       "    </tr>\n",
       "  </tbody>\n",
       "</table>\n",
       "</div>"
      ],
      "text/plain": [
       "                   original   updated\n",
       "Accuracy           0.847011  0.831859\n",
       "Balanced Accuracy  0.737473  0.704057\n",
       "F1 score           0.622626  0.566420\n",
       "MCC                0.544495  0.489700\n",
       "Precision          0.759862  0.739658\n",
       "Recall             0.527379  0.458932\n",
       "ROC AUC            0.902655  0.888533"
      ]
     },
     "execution_count": 12,
     "metadata": {},
     "output_type": "execute_result"
    }
   ],
   "source": [
    "# Check performance drop\n",
    "fpred.evaluate()"
   ]
  },
  {
   "cell_type": "code",
   "execution_count": 13,
   "metadata": {
    "execution": {
     "iopub.execute_input": "2024-06-17T19:19:58.803222Z",
     "iopub.status.busy": "2024-06-17T19:19:58.802592Z",
     "iopub.status.idle": "2024-06-17T19:19:58.886894Z",
     "shell.execute_reply": "2024-06-17T19:19:58.886449Z"
    }
   },
   "outputs": [
    {
     "data": {
      "text/html": [
       "<div>\n",
       "<style scoped>\n",
       "    .dataframe tbody tr th:only-of-type {\n",
       "        vertical-align: middle;\n",
       "    }\n",
       "\n",
       "    .dataframe tbody tr th {\n",
       "        vertical-align: top;\n",
       "    }\n",
       "\n",
       "    .dataframe thead th {\n",
       "        text-align: right;\n",
       "    }\n",
       "</style>\n",
       "<table border=\"1\" class=\"dataframe\">\n",
       "  <thead>\n",
       "    <tr style=\"text-align: right;\">\n",
       "      <th></th>\n",
       "      <th>original</th>\n",
       "      <th>updated</th>\n",
       "    </tr>\n",
       "  </thead>\n",
       "  <tbody>\n",
       "    <tr>\n",
       "      <th>Statistical Parity</th>\n",
       "      <td>0.153123</td>\n",
       "      <td>0.019611</td>\n",
       "    </tr>\n",
       "    <tr>\n",
       "      <th>Predictive Parity</th>\n",
       "      <td>0.000197</td>\n",
       "      <td>0.270249</td>\n",
       "    </tr>\n",
       "    <tr>\n",
       "      <th>Equal Opportunity</th>\n",
       "      <td>0.100120</td>\n",
       "      <td>0.262595</td>\n",
       "    </tr>\n",
       "    <tr>\n",
       "      <th>Average Group Difference in False Negative Rate</th>\n",
       "      <td>0.100120</td>\n",
       "      <td>0.262595</td>\n",
       "    </tr>\n",
       "    <tr>\n",
       "      <th>Equalized Odds</th>\n",
       "      <td>0.078853</td>\n",
       "      <td>0.145533</td>\n",
       "    </tr>\n",
       "    <tr>\n",
       "      <th>Conditional Use Accuracy</th>\n",
       "      <td>0.056217</td>\n",
       "      <td>0.219375</td>\n",
       "    </tr>\n",
       "    <tr>\n",
       "      <th>Average Group Difference in Accuracy</th>\n",
       "      <td>0.114673</td>\n",
       "      <td>0.108514</td>\n",
       "    </tr>\n",
       "    <tr>\n",
       "      <th>Treatment Equality</th>\n",
       "      <td>0.123767</td>\n",
       "      <td>1.587736</td>\n",
       "    </tr>\n",
       "  </tbody>\n",
       "</table>\n",
       "</div>"
      ],
      "text/plain": [
       "                                                 original   updated\n",
       "Statistical Parity                               0.153123  0.019611\n",
       "Predictive Parity                                0.000197  0.270249\n",
       "Equal Opportunity                                0.100120  0.262595\n",
       "Average Group Difference in False Negative Rate  0.100120  0.262595\n",
       "Equalized Odds                                   0.078853  0.145533\n",
       "Conditional Use Accuracy                         0.056217  0.219375\n",
       "Average Group Difference in Accuracy             0.114673  0.108514\n",
       "Treatment Equality                               0.123767  1.587736"
      ]
     },
     "execution_count": 13,
     "metadata": {},
     "output_type": "execute_result"
    }
   ],
   "source": [
    "# and fairness\n",
    "fpred.evaluate_fairness()"
   ]
  },
  {
   "cell_type": "code",
   "execution_count": 14,
   "metadata": {
    "execution": {
     "iopub.execute_input": "2024-06-17T19:19:58.891498Z",
     "iopub.status.busy": "2024-06-17T19:19:58.891329Z",
     "iopub.status.idle": "2024-06-17T19:19:59.377465Z",
     "shell.execute_reply": "2024-06-17T19:19:59.376942Z"
    }
   },
   "outputs": [
    {
     "data": {
      "image/png": "[encoded data removed]",
      "text/plain": [
       "<Figure size 640x480 with 1 Axes>"
      ]
     },
     "metadata": {},
     "output_type": "display_data"
    }
   ],
   "source": [
    "#Visualise the possible trade-offs\n",
    "fpred.plot_frontier()"
   ]
  },
  {
   "cell_type": "code",
   "execution_count": 15,
   "metadata": {
    "execution": {
     "iopub.execute_input": "2024-06-17T19:19:59.382198Z",
     "iopub.status.busy": "2024-06-17T19:19:59.381925Z",
     "iopub.status.idle": "2024-06-17T19:19:59.789703Z",
     "shell.execute_reply": "2024-06-17T19:19:59.789389Z"
    }
   },
   "outputs": [
    {
     "data": {
      "image/png": "[encoded data removed]",
      "text/plain": [
       "<Figure size 640x480 with 1 Axes>"
      ]
     },
     "metadata": {},
     "output_type": "display_data"
    }
   ],
   "source": [
    "#To quickly select another point from the frontier, you can call it with recompute=False\n",
    "fpred.fit(gm.accuracy, gm.demographic_parity, 0.05, recompute=False)\n",
    "fpred.plot_frontier()\n"
   ]
  },
  {
   "cell_type": "code",
   "execution_count": 16,
   "metadata": {
    "execution": {
     "iopub.execute_input": "2024-06-17T19:19:59.792911Z",
     "iopub.status.busy": "2024-06-17T19:19:59.792623Z",
     "iopub.status.idle": "2024-06-17T19:19:59.795145Z",
     "shell.execute_reply": "2024-06-17T19:19:59.794795Z"
    }
   },
   "outputs": [],
   "source": [
    "# to evaluate how it's working on the test set, we'll create a new dataset holder\n",
    "test_network = oxonfair.DeepDataDict(test['target'], test_output, test['groups'])"
   ]
  },
  {
   "cell_type": "code",
   "execution_count": 17,
   "metadata": {
    "execution": {
     "iopub.execute_input": "2024-06-17T19:19:59.797298Z",
     "iopub.status.busy": "2024-06-17T19:19:59.797154Z",
     "iopub.status.idle": "2024-06-17T19:19:59.854729Z",
     "shell.execute_reply": "2024-06-17T19:19:59.854107Z"
    }
   },
   "outputs": [
    {
     "data": {
      "text/html": [
       "<div>\n",
       "<style scoped>\n",
       "    .dataframe tbody tr th:only-of-type {\n",
       "        vertical-align: middle;\n",
       "    }\n",
       "\n",
       "    .dataframe tbody tr th {\n",
       "        vertical-align: top;\n",
       "    }\n",
       "\n",
       "    .dataframe thead th {\n",
       "        text-align: right;\n",
       "    }\n",
       "</style>\n",
       "<table border=\"1\" class=\"dataframe\">\n",
       "  <thead>\n",
       "    <tr style=\"text-align: right;\">\n",
       "      <th></th>\n",
       "      <th>original</th>\n",
       "      <th>updated</th>\n",
       "    </tr>\n",
       "  </thead>\n",
       "  <tbody>\n",
       "    <tr>\n",
       "      <th>Accuracy</th>\n",
       "      <td>0.850545</td>\n",
       "      <td>0.840799</td>\n",
       "    </tr>\n",
       "    <tr>\n",
       "      <th>Balanced Accuracy</th>\n",
       "      <td>0.742136</td>\n",
       "      <td>0.737372</td>\n",
       "    </tr>\n",
       "    <tr>\n",
       "      <th>F1 score</th>\n",
       "      <td>0.631090</td>\n",
       "      <td>0.618375</td>\n",
       "    </tr>\n",
       "    <tr>\n",
       "      <th>MCC</th>\n",
       "      <td>0.555519</td>\n",
       "      <td>0.529675</td>\n",
       "    </tr>\n",
       "    <tr>\n",
       "      <th>Precision</th>\n",
       "      <td>0.770864</td>\n",
       "      <td>0.725138</td>\n",
       "    </tr>\n",
       "    <tr>\n",
       "      <th>Recall</th>\n",
       "      <td>0.534223</td>\n",
       "      <td>0.539014</td>\n",
       "    </tr>\n",
       "    <tr>\n",
       "      <th>ROC AUC</th>\n",
       "      <td>0.902339</td>\n",
       "      <td>0.888278</td>\n",
       "    </tr>\n",
       "  </tbody>\n",
       "</table>\n",
       "</div>"
      ],
      "text/plain": [
       "                   original   updated\n",
       "Accuracy           0.850545  0.840799\n",
       "Balanced Accuracy  0.742136  0.737372\n",
       "F1 score           0.631090  0.618375\n",
       "MCC                0.555519  0.529675\n",
       "Precision          0.770864  0.725138\n",
       "Recall             0.534223  0.539014\n",
       "ROC AUC            0.902339  0.888278"
      ]
     },
     "execution_count": 17,
     "metadata": {},
     "output_type": "execute_result"
    }
   ],
   "source": [
    "#And evaluate\n",
    "fpred.evaluate(test_network)"
   ]
  },
  {
   "cell_type": "code",
   "execution_count": 18,
   "metadata": {
    "execution": {
     "iopub.execute_input": "2024-06-17T19:19:59.857148Z",
     "iopub.status.busy": "2024-06-17T19:19:59.856991Z",
     "iopub.status.idle": "2024-06-17T19:19:59.937419Z",
     "shell.execute_reply": "2024-06-17T19:19:59.937029Z"
    }
   },
   "outputs": [
    {
     "data": {
      "text/html": [
       "<div>\n",
       "<style scoped>\n",
       "    .dataframe tbody tr th:only-of-type {\n",
       "        vertical-align: middle;\n",
       "    }\n",
       "\n",
       "    .dataframe tbody tr th {\n",
       "        vertical-align: top;\n",
       "    }\n",
       "\n",
       "    .dataframe thead th {\n",
       "        text-align: right;\n",
       "    }\n",
       "</style>\n",
       "<table border=\"1\" class=\"dataframe\">\n",
       "  <thead>\n",
       "    <tr style=\"text-align: right;\">\n",
       "      <th></th>\n",
       "      <th>original</th>\n",
       "      <th>updated</th>\n",
       "    </tr>\n",
       "  </thead>\n",
       "  <tbody>\n",
       "    <tr>\n",
       "      <th>Statistical Parity</th>\n",
       "      <td>0.154577</td>\n",
       "      <td>0.046572</td>\n",
       "    </tr>\n",
       "    <tr>\n",
       "      <th>Predictive Parity</th>\n",
       "      <td>0.008904</td>\n",
       "      <td>0.245004</td>\n",
       "    </tr>\n",
       "    <tr>\n",
       "      <th>Equal Opportunity</th>\n",
       "      <td>0.104299</td>\n",
       "      <td>0.231262</td>\n",
       "    </tr>\n",
       "    <tr>\n",
       "      <th>Average Group Difference in False Negative Rate</th>\n",
       "      <td>0.104299</td>\n",
       "      <td>0.231262</td>\n",
       "    </tr>\n",
       "    <tr>\n",
       "      <th>Equalized Odds</th>\n",
       "      <td>0.080281</td>\n",
       "      <td>0.124072</td>\n",
       "    </tr>\n",
       "    <tr>\n",
       "      <th>Conditional Use Accuracy</th>\n",
       "      <td>0.059483</td>\n",
       "      <td>0.198959</td>\n",
       "    </tr>\n",
       "    <tr>\n",
       "      <th>Average Group Difference in Accuracy</th>\n",
       "      <td>0.112338</td>\n",
       "      <td>0.095505</td>\n",
       "    </tr>\n",
       "    <tr>\n",
       "      <th>Treatment Equality</th>\n",
       "      <td>0.137020</td>\n",
       "      <td>2.032479</td>\n",
       "    </tr>\n",
       "  </tbody>\n",
       "</table>\n",
       "</div>"
      ],
      "text/plain": [
       "                                                 original   updated\n",
       "Statistical Parity                               0.154577  0.046572\n",
       "Predictive Parity                                0.008904  0.245004\n",
       "Equal Opportunity                                0.104299  0.231262\n",
       "Average Group Difference in False Negative Rate  0.104299  0.231262\n",
       "Equalized Odds                                   0.080281  0.124072\n",
       "Conditional Use Accuracy                         0.059483  0.198959\n",
       "Average Group Difference in Accuracy             0.112338  0.095505\n",
       "Treatment Equality                               0.137020  2.032479"
      ]
     },
     "execution_count": 18,
     "metadata": {},
     "output_type": "execute_result"
    }
   ],
   "source": [
    "fpred.evaluate_fairness(test_network)"
   ]
  },
  {
   "cell_type": "code",
   "execution_count": 19,
   "metadata": {
    "execution": {
     "iopub.execute_input": "2024-06-17T19:19:59.940294Z",
     "iopub.status.busy": "2024-06-17T19:19:59.939973Z",
     "iopub.status.idle": "2024-06-17T19:19:59.942597Z",
     "shell.execute_reply": "2024-06-17T19:19:59.942335Z"
    }
   },
   "outputs": [
    {
     "data": {
      "text/plain": [
       "(-2.107, 1.824)"
      ]
     },
     "execution_count": 19,
     "metadata": {},
     "output_type": "execute_result"
    }
   ],
   "source": [
    "# Now let's merge the heads\n",
    "# We examine the coefficients first.\n",
    "fpred.extract_coefficients()"
   ]
  },
  {
   "cell_type": "markdown",
   "metadata": {},
   "source": [
    "The block below shows the merging step for two groups. \n",
    "\n",
    "When only two groups exist, we are using a binary encoding of groups and trying to predict either 0 or 1.\n",
    "The parameters we learn correspond to a scalar `a`, and bias `b`, and the predictions made by the merging:\n",
    "\n",
    "    classification_head + a * group_head +b\n",
    "\n",
    "should be fair and performant.\n",
    "\n",
    "When more than two groups exist, you should have trained the second head to output a one-hot encoding of the groups and the merging:\n",
    "\n",
    "    classification_head + a.dot(group_head)\n",
    "\n",
    "should be fair and performant."
   ]
  },
  {
   "cell_type": "code",
   "execution_count": 20,
   "metadata": {
    "execution": {
     "iopub.execute_input": "2024-06-17T19:19:59.944167Z",
     "iopub.status.busy": "2024-06-17T19:19:59.944036Z",
     "iopub.status.idle": "2024-06-17T19:19:59.959314Z",
     "shell.execute_reply": "2024-06-17T19:19:59.958777Z"
    }
   },
   "outputs": [],
   "source": [
    "# We copy the network and create a fair version\n",
    "import copy\n",
    "fair_network = copy.deepcopy(network)\n",
    "# We replace the final linear layer with a 1 dimensional head.\n",
    "fair_network[-1] = fpred.merge_heads_pytorch(network[-1])"
   ]
  },
  {
   "cell_type": "code",
   "execution_count": 21,
   "metadata": {
    "execution": {
     "iopub.execute_input": "2024-06-17T19:19:59.962110Z",
     "iopub.status.busy": "2024-06-17T19:19:59.961919Z",
     "iopub.status.idle": "2024-06-17T19:19:59.983719Z",
     "shell.execute_reply": "2024-06-17T19:19:59.983212Z"
    }
   },
   "outputs": [],
   "source": [
    "# Now let's check the fair classifier on the test set.\n",
    "test_fair_output=np.asarray(fair_network(torch.tensor(np.asarray(test['data'])).float()).detach())"
   ]
  },
  {
   "cell_type": "code",
   "execution_count": 22,
   "metadata": {
    "execution": {
     "iopub.execute_input": "2024-06-17T19:19:59.986126Z",
     "iopub.status.busy": "2024-06-17T19:19:59.985985Z",
     "iopub.status.idle": "2024-06-17T19:19:59.994638Z",
     "shell.execute_reply": "2024-06-17T19:19:59.994199Z"
    }
   },
   "outputs": [
    {
     "data": {
      "text/plain": [
       "Accuracy             0.840799\n",
       "Balanced Accuracy    0.737372\n",
       "F1 score             0.618375\n",
       "MCC                  0.529675\n",
       "Precision            0.725138\n",
       "Recall               0.539014\n",
       "ROC AUC              0.888278\n",
       "Name: 0, dtype: float64"
      ]
     },
     "execution_count": 22,
     "metadata": {},
     "output_type": "execute_result"
    }
   ],
   "source": [
    "# As expected the accuracy is identical to what was reported before.\n",
    "oxonfair.performance.evaluate(test['target'],test_fair_output.reshape(-1))"
   ]
  },
  {
   "cell_type": "code",
   "execution_count": 23,
   "metadata": {
    "execution": {
     "iopub.execute_input": "2024-06-17T19:19:59.996913Z",
     "iopub.status.busy": "2024-06-17T19:19:59.996781Z",
     "iopub.status.idle": "2024-06-17T19:20:00.038725Z",
     "shell.execute_reply": "2024-06-17T19:20:00.037915Z"
    }
   },
   "outputs": [
    {
     "data": {
      "text/plain": [
       "Statistical Parity                                 0.046572\n",
       "Predictive Parity                                  0.245004\n",
       "Equal Opportunity                                  0.231262\n",
       "Average Group Difference in False Negative Rate    0.231262\n",
       "Equalized Odds                                     0.124072\n",
       "Conditional Use Accuracy                           0.198959\n",
       "Average Group Difference in Accuracy               0.095505\n",
       "Treatment Equality                                 2.032479\n",
       "Name: 0, dtype: float64"
      ]
     },
     "execution_count": 23,
     "metadata": {},
     "output_type": "execute_result"
    }
   ],
   "source": [
    "# And so is the fairness\n",
    "oxonfair.performance.evaluate_fairness(test['target'],test_fair_output.reshape(-1),test['groups'])"
   ]
  },
  {
   "cell_type": "code",
   "execution_count": 24,
   "metadata": {
    "execution": {
     "iopub.execute_input": "2024-06-17T19:20:00.041072Z",
     "iopub.status.busy": "2024-06-17T19:20:00.040869Z",
     "iopub.status.idle": "2024-06-17T19:20:00.044125Z",
     "shell.execute_reply": "2024-06-17T19:20:00.043628Z"
    }
   },
   "outputs": [],
   "source": [
    "# Finally, let's compare to a range of other oxonfair based classifiers.\n",
    "# These don't support head merging\n",
    "# 1. The base method that just picks the most likely group label instead of keeping track of the value returned \n",
    "fpred_standard = oxonfair.DeepFairPredictor(val['target'],\n",
    "                                              val_output,\n",
    "                                              groups=val['groups'], use_fast=True)\n",
    "# 2. A classifier that enforces fairness by using the actual group labels instead of inferred.\n",
    "fpred_true_groups = oxonfair.DeepFairPredictor(val['target'],\n",
    "                                              val_output,\n",
    "                                              groups=val['groups'], use_fast=True,use_actual_groups=True)\n",
    "\n",
    "\n",
    "# 3. Single threshold. This adjusts the global bias only, without considering group membership.\n",
    "# It works surprisingly well for criteria like recall.min, but is less useful for fairness\n",
    "fpred_thresh  = oxonfair.DeepFairPredictor(val['target'],\n",
    "                                              val_output,\n",
    "                                              groups=val['groups'], use_actual_groups='single_threshold')\n"
   ]
  },
  {
   "cell_type": "code",
   "execution_count": 25,
   "metadata": {
    "execution": {
     "iopub.execute_input": "2024-06-17T19:20:00.046278Z",
     "iopub.status.busy": "2024-06-17T19:20:00.046145Z",
     "iopub.status.idle": "2024-06-17T19:20:00.065088Z",
     "shell.execute_reply": "2024-06-17T19:20:00.064691Z"
    }
   },
   "outputs": [
    {
     "name": "stderr",
     "output_type": "stream",
     "text": [
      "Fewer groups used (1) in infered groups than in the true groups (2)\n"
     ]
    }
   ],
   "source": [
    "fpred_standard.fit(gm.accuracy,gm.demographic_parity,0.05)\n",
    "fpred_true_groups.fit(gm.accuracy,gm.demographic_parity,0.05)\n",
    "fpred_thresh.fit(gm.accuracy,gm.demographic_parity,0.05)"
   ]
  },
  {
   "cell_type": "code",
   "execution_count": 26,
   "metadata": {
    "execution": {
     "iopub.execute_input": "2024-06-17T19:20:00.067975Z",
     "iopub.status.busy": "2024-06-17T19:20:00.067792Z",
     "iopub.status.idle": "2024-06-17T19:20:01.051254Z",
     "shell.execute_reply": "2024-06-17T19:20:01.050803Z"
    }
   },
   "outputs": [
    {
     "data": {
      "text/plain": [
       "(0.75, 0.8792014742014742)"
      ]
     },
     "execution_count": 26,
     "metadata": {},
     "output_type": "execute_result"
    },
    {
     "data": {
      "image/png": "[encoded data removed]",
      "text/plain": [
       "<Figure size 640x480 with 1 Axes>"
      ]
     },
     "metadata": {},
     "output_type": "display_data"
    }
   ],
   "source": [
    "# Plot of curves on validation data\n",
    "# This shows that the first three approaches are basically interchangable\n",
    "fpred_true_groups.plot_frontier(prefix='True Groups ', new_plot=False, show_original=False)\n",
    "fpred_standard.plot_frontier(prefix='Base method ', new_plot=False)\n",
    "fpred_thresh.plot_frontier(prefix='Single threshold ', new_plot=False, show_original=False)\n",
    "fpred.plot_frontier(prefix='Two heads ', new_plot=False)\n",
    "plt.ylim(bottom=0.75)"
   ]
  }
 ],
 "metadata": {
  "kernelspec": {
   "display_name": "py3.8",
   "language": "python",
   "name": "python3"
  },
  "language_info": {
   "codemirror_mode": {
    "name": "ipython",
    "version": 3
   },
   "file_extension": ".py",
   "mimetype": "text/x-python",
   "name": "python",
   "nbconvert_exporter": "python",
   "pygments_lexer": "ipython3",
   "version": "3.8.18"
  }
 },
 "nbformat": 4,
 "nbformat_minor": 2
}
